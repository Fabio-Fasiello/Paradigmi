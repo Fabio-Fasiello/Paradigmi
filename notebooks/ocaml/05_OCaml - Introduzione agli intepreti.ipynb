{
 "cells": [
  {
   "cell_type": "markdown",
   "id": "e9240ba0",
   "metadata": {
    "slideshow": {
     "slide_type": "slide"
    }
   },
   "source": [
    "# Introduzione allo sviluppo di interpreti"
   ]
  },
  {
   "cell_type": "markdown",
   "id": "72edf0d7",
   "metadata": {},
   "source": [
    "## TODO:\n",
    "Esempi di risolutore espressioni e interprete lambda calcolo\n",
    "\n",
    "Risolutore espressioni:\n",
    "\n",
    "- big step semantics (eval) e small step (eval_step)\n",
    "- parser discendente ricorsivo (rivedere usando funzione lookahead)\n",
    "- aggiungere variabili con ambiente e sostituzione?\n",
    "\n",
    "Lambda calcolo:\n",
    "\n",
    "- da Giangi"
   ]
  },
  {
   "cell_type": "markdown",
   "id": "5caa28b7",
   "metadata": {},
   "source": [
    "Esempio: le espressioni aritmetiche (su interi)\n",
    "\n",
    "```\n",
    "Exp ::= n | Exp op Exp | -Exp | (Exp)\n",
    "op ::= + | - | * | / | %\n",
    "```"
   ]
  },
  {
   "cell_type": "code",
   "execution_count": 1,
   "id": "1a13bdf6",
   "metadata": {},
   "outputs": [
    {
     "data": {
      "text/plain": [
       "type op = Add | Sub | Mul | Div | Mod\n"
      ]
     },
     "execution_count": 1,
     "metadata": {},
     "output_type": "execute_result"
    },
    {
     "data": {
      "text/plain": [
       "type exp = Val of int | Op of op * exp * exp | Neg of exp\n"
      ]
     },
     "execution_count": 1,
     "metadata": {},
     "output_type": "execute_result"
    }
   ],
   "source": [
    "type op = Add | Sub | Mul | Div | Mod ;;\n",
    "type exp =\n",
    "    | Val of int\n",
    "    | Op of op*exp*exp\n",
    "    | Neg of exp ;;"
   ]
  },
  {
   "cell_type": "code",
   "execution_count": 2,
   "id": "633239a8",
   "metadata": {},
   "outputs": [
    {
     "data": {
      "text/plain": [
       "val exp1 : exp = Op (Sub, Op (Mul, Val 3, Val 7), Val 5)\n"
      ]
     },
     "execution_count": 2,
     "metadata": {},
     "output_type": "execute_result"
    },
    {
     "data": {
      "text/plain": [
       "val exp2 : exp = Op (Mul, Val 3, Op (Sub, Val 7, Val 5))\n"
      ]
     },
     "execution_count": 2,
     "metadata": {},
     "output_type": "execute_result"
    }
   ],
   "source": [
    "let exp1 = Op (Sub, (Op (Mul, Val 3, Val 7)), Val 5) ;;\n",
    "let exp2 = Op (Mul, Val 3, (Op (Sub, Val 7, Val 5))) ;;"
   ]
  },
  {
   "cell_type": "code",
   "execution_count": 3,
   "id": "51ad54f7",
   "metadata": {},
   "outputs": [
    {
     "data": {
      "text/plain": [
       "val symbol : op -> string = <fun>\n"
      ]
     },
     "execution_count": 3,
     "metadata": {},
     "output_type": "execute_result"
    },
    {
     "data": {
      "text/plain": [
       "val to_string : exp -> string = <fun>\n"
      ]
     },
     "execution_count": 3,
     "metadata": {},
     "output_type": "execute_result"
    }
   ],
   "source": [
    "let symbol o =\n",
    "    match o with\n",
    "    | Add -> \"+\" | Sub -> \"-\" | Mul -> \"*\" | Div -> \"/\" | Mod -> \"%\" ;;\n",
    "let rec to_string e =\n",
    "    match e with\n",
    "    | Val n -> string_of_int n\n",
    "    | Op (o,e1,e2) -> \"(\"^ (to_string e1) ^ (symbol o) ^ (to_string e2) ^\")\"\n",
    "    | Neg e' -> \"-\"^(to_string e') ;;"
   ]
  },
  {
   "cell_type": "code",
   "execution_count": 4,
   "id": "ce877c83",
   "metadata": {},
   "outputs": [
    {
     "data": {
      "text/plain": [
       "val eval : exp -> int = <fun>\n"
      ]
     },
     "execution_count": 4,
     "metadata": {},
     "output_type": "execute_result"
    }
   ],
   "source": [
    "let rec eval e =\n",
    "    match e with\n",
    "    | Val n -> n\n",
    "    | Op (o,e1,e2) -> \n",
    "        (match o with\n",
    "        | Add -> (eval e1) + (eval e2)\n",
    "        | Sub -> (eval e1) - (eval e2)\n",
    "        | Mul -> (eval e1) * (eval e2)\n",
    "        | Div -> (eval e1) / (eval e2)\n",
    "        | Mod -> (eval e1) mod (eval e2)\n",
    "        )\n",
    "    | Neg e' -> - (eval e') ;;"
   ]
  },
  {
   "cell_type": "code",
   "execution_count": 5,
   "id": "19421c7c",
   "metadata": {},
   "outputs": [
    {
     "data": {
      "text/plain": [
       "val eval_step : exp -> exp = <fun>\n"
      ]
     },
     "execution_count": 5,
     "metadata": {},
     "output_type": "execute_result"
    },
    {
     "data": {
      "text/plain": [
       "- : exp = Op (Sub, Op (Mul, Val 3, Val 7), Val 5)\n"
      ]
     },
     "execution_count": 5,
     "metadata": {},
     "output_type": "execute_result"
    },
    {
     "data": {
      "text/plain": [
       "- : exp = Op (Sub, Val 21, Val 5)\n"
      ]
     },
     "execution_count": 5,
     "metadata": {},
     "output_type": "execute_result"
    },
    {
     "data": {
      "text/plain": [
       "- : exp = Val 16\n"
      ]
     },
     "execution_count": 5,
     "metadata": {},
     "output_type": "execute_result"
    },
    {
     "data": {
      "text/plain": [
       "- : int = 16\n"
      ]
     },
     "execution_count": 5,
     "metadata": {},
     "output_type": "execute_result"
    }
   ],
   "source": [
    "let rec eval_step e =\n",
    "        match e with\n",
    "        | Val n -> Val n\n",
    "        | Op (o,e1,e2) ->\n",
    "            (match e1,e2 with\n",
    "            | Val _,Val _ -> Val (eval e)\n",
    "            | Op (_,_,_),_ | Neg _,_ -> Op (o,(eval_step e1),e2)\n",
    "            | _,Op (_,_,_) | _,Neg _ -> Op (o,e1,(eval_step e2))\n",
    "            )\n",
    "        | Neg e' ->\n",
    "            (match e' with\n",
    "            | Val n' -> Val (-n')\n",
    "            | _ -> Neg (eval_step e')\n",
    "            )\n",
    ";;\n",
    "\n",
    "exp1;;\n",
    "eval_step exp1;;\n",
    "eval_step (eval_step exp1);;\n",
    "eval exp1;;"
   ]
  },
  {
   "cell_type": "code",
   "execution_count": 6,
   "id": "91f0c7b4",
   "metadata": {},
   "outputs": [
    {
     "data": {
      "text/plain": [
       "val solve : exp -> string = <fun>\n"
      ]
     },
     "execution_count": 6,
     "metadata": {},
     "output_type": "execute_result"
    },
    {
     "data": {
      "text/plain": [
       "- : string = \"((3*7)-5) = (21-5) = 16\"\n"
      ]
     },
     "execution_count": 6,
     "metadata": {},
     "output_type": "execute_result"
    }
   ],
   "source": [
    "let rec solve e =\n",
    "    match e with\n",
    "    | Val n -> (to_string e)\n",
    "    | _ -> (to_string e)^\" = \"^(solve (eval_step e)) ;;\n",
    "\n",
    "solve exp1 ;;"
   ]
  },
  {
   "cell_type": "markdown",
   "id": "f6bab0e9",
   "metadata": {
    "slideshow": {
     "slide_type": "slide"
    }
   },
   "source": [
    "```\n",
    "Exp ::= ( Exp ) Exp' | n Exp' | - Exp\n",
    "Exp'::= op Exp Exp' |\n",
    "```"
   ]
  },
  {
   "cell_type": "code",
   "execution_count": 7,
   "id": "1399bbc7",
   "metadata": {
    "slideshow": {
     "slide_type": "slide"
    }
   },
   "outputs": [
    {
     "data": {
      "text/plain": [
       "val tokenize : string -> string list -> string list = <fun>\n"
      ]
     },
     "execution_count": 7,
     "metadata": {},
     "output_type": "execute_result"
    },
    {
     "data": {
      "text/plain": [
       "val t : string list = [\"(\"; \"3\"; \"+\"; \"4\"; \")\"; \"-\"; \"(\"; \"2\"; \"*\"; \"2\"; \")\"]\n"
      ]
     },
     "execution_count": 7,
     "metadata": {},
     "output_type": "execute_result"
    }
   ],
   "source": [
    " let rec tokenize s t=\n",
    "    if String.length s = 0 then t\n",
    "    else\n",
    "        let is_symbol c =\n",
    "            match c with\n",
    "            | \"(\" | \")\" | \"+\" | \"-\" | \"*\" | \"/\" | \"%\" -> true\n",
    "            | _ -> false\n",
    "        in\n",
    "        let is_digit c =\n",
    "            match c with\n",
    "            | \"0\" | \"1\" | \"2\" | \"3\" | \"4\" | \"5\" | \"6\" | \"7\" | \"8\" | \"9\" -> true\n",
    "            | _ -> false\n",
    "        in \n",
    "            let c = String.sub s 0 1\n",
    "        in\n",
    "            let s' = String.sub s 1 ((String.length s) -1)\n",
    "        in \n",
    "            if c=\" \" then tokenize s' t\n",
    "            else if is_symbol c then c::(tokenize s' t)\n",
    "            else if is_digit c then\n",
    "                match tokenize s' t with\n",
    "                | [] -> [c]\n",
    "                | c'::t' -> if is_symbol c' then c::(tokenize s' t)\n",
    "                            else (c^c')::(tokenize s' t')\n",
    "            else [\"PARSE ERROR\"] (* errore: caratteri o altri simboli non ammessi *)\n",
    "    ;;    \n",
    "\n",
    "let t = tokenize \"(3 + 4) - (2 * 2)\" [];;"
   ]
  },
  {
   "cell_type": "code",
   "execution_count": 8,
   "id": "299f29d3",
   "metadata": {},
   "outputs": [
    {
     "data": {
      "text/plain": [
       "type n_exp =\n",
       "    Par of n_exp * n_exp'\n",
       "  | Num of int * n_exp'\n",
       "  | Minus of n_exp\n",
       "  | Error1\n",
       "and n_exp' = Oper of op * n_exp * n_exp' | Empty | Error2\n"
      ]
     },
     "execution_count": 8,
     "metadata": {},
     "output_type": "execute_result"
    },
    {
     "data": {
      "text/plain": [
       "val parse_tokens : string list -> n_exp * string list = <fun>\n"
      ]
     },
     "execution_count": 8,
     "metadata": {},
     "output_type": "execute_result"
    },
    {
     "data": {
      "text/plain": [
       "val t : string list =\n",
       "  [\"(\"; \"6\"; \"+\"; \"(\"; \"2\"; \")\"; \"*\"; \"3\"; \")\"; \"+\"; \"(\"; \"3\"; \"/\"; \"4\"; \")\"]\n"
      ]
     },
     "execution_count": 8,
     "metadata": {},
     "output_type": "execute_result"
    },
    {
     "data": {
      "text/plain": [
       "val e : n_exp * string list =\n",
       "  (Par\n",
       "    (Num (6,\n",
       "      Oper (Add, Par (Num (2, Empty), Oper (Mul, Num (3, Empty), Empty)),\n",
       "       Empty)),\n",
       "    Oper (Add, Par (Num (3, Oper (Div, Num (4, Empty), Empty)), Empty),\n",
       "     Empty)),\n",
       "   [])\n"
      ]
     },
     "execution_count": 8,
     "metadata": {},
     "output_type": "execute_result"
    }
   ],
   "source": [
    "type n_exp = \n",
    "    | Par of n_exp*n_exp'\n",
    "    | Num of int*n_exp'\n",
    "    | Minus of n_exp\n",
    "    | Error1\n",
    "and n_exp' =\n",
    "    | Oper of op*n_exp*n_exp' \n",
    "    | Empty \n",
    "    | Error2 ;;\n",
    "\n",
    "let parse_tokens t =\n",
    "    let rec exp t =\n",
    "        match t with\n",
    "        | [] | \"PARSE_ERROR\"::_ | \"+\"::_ | \"*\"::_ | \"/\"::_ | \"%\"::_ | \")\"::_ -> (Error1,t)\n",
    "        | \"(\"::t' -> let (e,t'') = exp t' in \n",
    "                        (match t'' with \n",
    "                        | \")\"::t''' -> let (e',t'''') = exp' t''' in (Par (e,e'),t'''')\n",
    "                        | _ -> (Error1,t'')\n",
    "                        )\n",
    "        | \"-\"::t' -> let (e,t'') = (exp t') in (Minus e,t'')\n",
    "        | s::t' -> let (e,t'') = (exp' t') in (Num ((int_of_string s),e),t'') (* s dovrebbe essere per certo un numero... *)\n",
    "    and exp' t =\n",
    "        match t with\n",
    "        | [] -> (Empty,[])\n",
    "        | \")\"::t' -> (Empty,t) (* caso epsilon *)\n",
    "        | \"+\"::t' -> let (e,t'') = (exp t')\n",
    "                     in (let (e',t''') = (exp' t'')\n",
    "                         in (Oper (Add,e,e'),t'''))\n",
    "        | \"-\"::t' -> let (e,t'') = (exp t')\n",
    "                     in (let (e',t''') = (exp' t'')\n",
    "                         in (Oper (Sub,e,e'),t'''))\n",
    "        | \"*\"::t' -> let (e,t'') = (exp t')\n",
    "                     in (let (e',t''') = (exp' t'')\n",
    "                         in (Oper (Mul,e,e'),t'''))\n",
    "        | \"/\"::t' -> let (e,t'') = (exp t')\n",
    "                     in (let (e',t''') = (exp' t'')\n",
    "                         in (Oper (Div,e,e'),t'''))\n",
    "        | \"%\"::t' -> let (e,t'') = (exp t')\n",
    "                     in (let (e',t''') = (exp' t'')\n",
    "                         in (Oper (Mod,e,e'),t'''))\n",
    "        | _ -> (Error2,[])\n",
    "    in\n",
    "        exp t;;\n",
    "\n",
    "\n",
    "(*l*)\n",
    "\n",
    "let t = tokenize \"(6+(2)*3)+(3/4)\" [];;\n",
    "let e = parse_tokens t;;"
   ]
  },
  {
   "cell_type": "code",
   "execution_count": 9,
   "id": "70682ed2",
   "metadata": {},
   "outputs": [
    {
     "data": {
      "text/plain": [
       "val convert : n_exp -> exp = <fun>\n"
      ]
     },
     "execution_count": 9,
     "metadata": {},
     "output_type": "execute_result"
    },
    {
     "data": {
      "text/plain": [
       "val e' : n_exp =\n",
       "  Par\n",
       "   (Num (6,\n",
       "     Oper (Add, Par (Num (2, Empty), Oper (Mul, Num (3, Empty), Empty)),\n",
       "      Empty)),\n",
       "   Oper (Add, Par (Num (3, Oper (Div, Num (4, Empty), Empty)), Empty), Empty))\n",
       "val l : string list = []\n"
      ]
     },
     "execution_count": 9,
     "metadata": {},
     "output_type": "execute_result"
    },
    {
     "data": {
      "text/plain": [
       "val e2 : exp =\n",
       "  Op (Add, Op (Add, Val 6, Op (Mul, Val 2, Val 3)), Op (Div, Val 3, Val 4))\n"
      ]
     },
     "execution_count": 9,
     "metadata": {},
     "output_type": "execute_result"
    },
    {
     "data": {
      "text/plain": [
       "- : int = 12\n"
      ]
     },
     "execution_count": 9,
     "metadata": {},
     "output_type": "execute_result"
    },
    {
     "data": {
      "text/plain": [
       "- : string = \"((6+(2*3))+(3/4)) = ((6+6)+(3/4)) = (12+(3/4)) = (12+0) = 12\"\n"
      ]
     },
     "execution_count": 9,
     "metadata": {},
     "output_type": "execute_result"
    },
    {
     "data": {
      "text/plain": [
       "- : int = -5\n"
      ]
     },
     "execution_count": 9,
     "metadata": {},
     "output_type": "execute_result"
    },
    {
     "data": {
      "text/plain": [
       "- : string = \"(-(5*2)/(1+1)) = (-10/(1+1)) = (-10/(1+1)) = (-10/2) = -5\"\n"
      ]
     },
     "execution_count": 9,
     "metadata": {},
     "output_type": "execute_result"
    }
   ],
   "source": [
    "let rec convert ne =\n",
    "    match ne with\n",
    "    | Par (e,e') -> \n",
    "        (match e' with\n",
    "        | Oper (o,e1,e1') -> Op (o,convert e,convert (Par (e1,e1')))\n",
    "        | Empty -> convert e\n",
    "        | Error2 -> Val (-9999) (* in caso di errore... *)\n",
    "        )\n",
    "    | Num (n,e') ->\n",
    "        (match e' with\n",
    "        | Oper (o,e1,e1') -> Op (o,Val n,convert (Par (e1,e1')))\n",
    "        | Empty -> Val n\n",
    "        | Error2 -> Val (-9999) (* in caso di errore... *)\n",
    "        )\n",
    "    | Minus e -> Neg (convert e)\n",
    "    | Error1 -> Val (-9999)  (* in caso di errore... *)\n",
    ";;\n",
    "            \n",
    "let (e',l) = e ;;\n",
    "let e2 = convert e';;\n",
    "eval e2 ;;\n",
    "solve e2 ;;\n",
    "\n",
    "eval ( convert ( fst (parse_tokens (tokenize \"(-5*2)/(1+1)\" []))));;\n",
    "solve ( convert ( fst (parse_tokens (tokenize \"(-5*2)/(1+1)\" []))));;"
   ]
  }
 ],
 "metadata": {
  "celltoolbar": "Slideshow",
  "kernelspec": {
   "display_name": "OCaml default",
   "language": "OCaml",
   "name": "ocaml-jupyter"
  },
  "language_info": {
   "codemirror_mode": "text/x-ocaml",
   "file_extension": ".ml",
   "mimetype": "text/x-ocaml",
   "name": "OCaml",
   "nbconverter_exporter": null,
   "pygments_lexer": "OCaml",
   "version": "4.08.1"
  },
  "rise": {
   "enable_chalkboard": true,
   "scroll": true
  }
 },
 "nbformat": 4,
 "nbformat_minor": 5
}
