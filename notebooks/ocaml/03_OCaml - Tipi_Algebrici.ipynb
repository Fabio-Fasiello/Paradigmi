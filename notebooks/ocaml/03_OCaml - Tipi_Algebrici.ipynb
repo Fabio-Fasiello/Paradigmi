{
 "cells": [
  {
   "cell_type": "markdown",
   "id": "e9240ba0",
   "metadata": {
    "slideshow": {
     "slide_type": "slide"
    }
   },
   "source": [
    "# Tipi Algebrici (Record e Variant)"
   ]
  },
  {
   "cell_type": "markdown",
   "id": "62baea61",
   "metadata": {
    "slideshow": {
     "slide_type": "notes"
    }
   },
   "source": [
    "In questo capitolo saranno illustrate **XXXXXXXXXXXXXXXXXXXX** del linguaggio OCaml, in particolare relative al paradigma di programmazione funzionale, che quello su cui OCaml si basa principalmente. Il linguaggio prevede comunque aspetti di programmazione imperativa e a oggetti che vedremo successivamente.\n",
    "\n",
    "### Riferimenti\n",
    "\n",
    "Questo capitolo si basa su materiale ed esempi di codice tratti da:\n",
    "\n",
    "- <A href=\"https://dev.realworldocaml.org/\">Real World OCaml</A> (Versione 2), di Yaron Minsky, Anil Madhavapeddy e Jason Hickey\n",
    "\n",
    "La licenza per l'utilizzo del testo e degli esempi di codice è disponibile nel sito indicato.\n",
    "\n",
    "Inoltre, alcuni aspetti del linguaggio possono essere approfonditi consultando il manuale ufficiale di OCaml, disponibile a questo indirizzo:\n",
    "\n",
    "- <A href=\"https://ocaml.org/manual/index.html\">https://ocaml.org/manual/index.html</A>"
   ]
  },
  {
   "cell_type": "markdown",
   "id": "d942b8fc",
   "metadata": {
    "slideshow": {
     "slide_type": "slide"
    }
   },
   "source": [
    "## Definire nuovi tipi\n",
    "\n",
    "In OCaml è possibile definire nuovi tipi di dato usando il costrutto `type`"
   ]
  },
  {
   "cell_type": "code",
   "execution_count": 1,
   "id": "748fd174",
   "metadata": {},
   "outputs": [
    {
     "data": {
      "text/plain": [
       "type data = int * int * int\n"
      ]
     },
     "execution_count": 1,
     "metadata": {},
     "output_type": "execute_result"
    }
   ],
   "source": [
    "type data = int*int*int ;;"
   ]
  },
  {
   "cell_type": "markdown",
   "id": "db859279",
   "metadata": {},
   "source": [
    "Abbiamo definito un alias per `int*int*int`, che rende più leggibile il codice..."
   ]
  },
  {
   "cell_type": "code",
   "execution_count": 2,
   "id": "1527fe74",
   "metadata": {},
   "outputs": [
    {
     "data": {
      "text/plain": [
       "val controlla_data : data -> bool = <fun>\n"
      ]
     },
     "execution_count": 2,
     "metadata": {},
     "output_type": "execute_result"
    }
   ],
   "source": [
    "let controlla_data (d:data) =\n",
    "    match d with\n",
    "    | gg,mm,aaaa -> gg>0 && gg<=31\n",
    "                 && mm>0 && mm<=12\n",
    "                 && aaaa>1900 && aaaa<=2030 ;;"
   ]
  },
  {
   "cell_type": "code",
   "execution_count": 3,
   "id": "cb0f434d",
   "metadata": {},
   "outputs": [
    {
     "data": {
      "text/plain": [
       "val accoda_data : data -> data list -> data list = <fun>\n"
      ]
     },
     "execution_count": 3,
     "metadata": {},
     "output_type": "execute_result"
    }
   ],
   "source": [
    "let accoda_data (d:data) lis =\n",
    "    if controlla_data(d) then d::lis else lis ;;"
   ]
  },
  {
   "cell_type": "markdown",
   "id": "e1328321",
   "metadata": {
    "slideshow": {
     "slide_type": "slide"
    }
   },
   "source": [
    "## Tipi algebrici\n",
    "\n",
    "OCaml consente di *comporre* tipi di dato per creare nuovi tipi"
   ]
  },
  {
   "cell_type": "markdown",
   "id": "a9235800",
   "metadata": {
    "slideshow": {
     "slide_type": "fragment"
    }
   },
   "source": [
    "Immaginiamo un tipo come un insieme di valori\n",
    "* `int` come l'insieme dei numeri interi, \n",
    "* `bool` come l'insieme {`true`,`false`}, \n",
    "* ecc..."
   ]
  },
  {
   "cell_type": "markdown",
   "id": "39295fbf",
   "metadata": {
    "slideshow": {
     "slide_type": "fragment"
    }
   },
   "source": [
    "Le operazioni di costruzione di nuovi tipi in OCaml sono ispirate alle operazioni insiemistiche: \n",
    "* *prodotto cartesiano* ($\\times$), a cui corrispondono le *tuple* e i *record*\n",
    "* *unione* ($\\cup$) (che è una *somma* di insiemi), a cui corrispondo i *variant*"
   ]
  },
  {
   "cell_type": "markdown",
   "id": "ade7921f",
   "metadata": {
    "slideshow": {
     "slide_type": "slide"
    }
   },
   "source": [
    "## Tipi prodotto: tuple e record\n",
    "\n",
    "Il prodotto cartesiano di due insiemi (es. $\\mathbf{N} \\times \\mathbf{N}$) è un insieme di coppie.\n",
    "* $(7,4) \\in \\mathbf{N}\\times \\mathbf{N}$\n",
    "\n",
    "Allo stesso modo il prodotto di due tipi (es. `int * int`) è un tipo di coppie\n",
    "* `(7,4) : int*int`\n",
    "\n",
    "Il discorso si estende a tuple di qualunque dimensione, come abbiamo già visto..."
   ]
  },
  {
   "cell_type": "markdown",
   "id": "78ca037b",
   "metadata": {
    "slideshow": {
     "slide_type": "slide"
    }
   },
   "source": [
    "## Record\n",
    "\n",
    "I record sono un modo più avanzato di definire tipi prodotto\n",
    "* sono simili a tuple, ma possiamo dare un nome agli elementi (detti *campi*)"
   ]
  },
  {
   "cell_type": "code",
   "execution_count": 29,
   "id": "a86cd7d9",
   "metadata": {},
   "outputs": [
    {
     "data": {
      "text/plain": [
       "type punto_2d = { x : float; y : float; }\n"
      ]
     },
     "execution_count": 29,
     "metadata": {},
     "output_type": "execute_result"
    }
   ],
   "source": [
    "type punto_2d = { x: float; y: float } ;;"
   ]
  },
  {
   "cell_type": "markdown",
   "id": "b93c2bf4",
   "metadata": {
    "slideshow": {
     "slide_type": "fragment"
    }
   },
   "source": [
    "Definito il tipo di un record, possiamo creare valori di quel tipo"
   ]
  },
  {
   "cell_type": "code",
   "execution_count": 5,
   "id": "139eb835",
   "metadata": {},
   "outputs": [
    {
     "data": {
      "text/plain": [
       "val p : punto_2d = {x = 3.; y = -4.}\n"
      ]
     },
     "execution_count": 5,
     "metadata": {},
     "output_type": "execute_result"
    }
   ],
   "source": [
    "let p = { x = 3.; y = -4. } ;;"
   ]
  },
  {
   "cell_type": "markdown",
   "id": "8b005d76",
   "metadata": {
    "cell_style": "center",
    "slideshow": {
     "slide_type": "slide"
    }
   },
   "source": [
    "Un valore di tipo record può essere decomposto usando il *pattern matching*\n",
    "\n",
    "Ad esempio, calcoliamo il quadrante del piano cartesiano in cui ricade un punto"
   ]
  },
  {
   "cell_type": "code",
   "execution_count": 26,
   "id": "db9014d8",
   "metadata": {
    "cell_style": "split"
   },
   "outputs": [
    {
     "data": {
      "text/plain": [
       "val quadrante : punto_2d -> int = <fun>\n"
      ]
     },
     "execution_count": 26,
     "metadata": {},
     "output_type": "execute_result"
    },
    {
     "data": {
      "text/plain": [
       "- : int = 2\n"
      ]
     },
     "execution_count": 26,
     "metadata": {},
     "output_type": "execute_result"
    }
   ],
   "source": [
    "let quadrante {x = x_pos; y = y_pos } =\n",
    "    match x_pos>=0.,y_pos>=0. with\n",
    "    | true,true -> 1\n",
    "    | false,true -> 2\n",
    "    | false,false -> 3\n",
    "    | true,false -> 4 ;;\n",
    "\n",
    "quadrante {x=(-3.); y=2.};;"
   ]
  },
  {
   "cell_type": "markdown",
   "id": "3ee0e351",
   "metadata": {
    "cell_style": "split",
    "slideshow": {
     "slide_type": "-"
    }
   },
   "source": [
    "<center><img src=\"files/images/quadranti.gif\" width=\"400\"></center>"
   ]
  },
  {
   "cell_type": "markdown",
   "id": "9e638b47",
   "metadata": {
    "cell_style": "center"
   },
   "source": [
    "**ATTENZIONE:** Nell'esempio ci sono due pattern matching. Quello che decompone il record è implicito nel `let` e usa il pattern `{x = x_pos; y = y_pos }`"
   ]
  },
  {
   "cell_type": "markdown",
   "id": "02784ca7",
   "metadata": {
    "slideshow": {
     "slide_type": "slide"
    }
   },
   "source": [
    "Un po' più semplicemente, possiamo usare direttamente `x` e `y` come nomi di variabili"
   ]
  },
  {
   "cell_type": "code",
   "execution_count": 7,
   "id": "98a9ad16",
   "metadata": {},
   "outputs": [
    {
     "data": {
      "text/plain": [
       "val quadrante : punto_2d -> int = <fun>\n"
      ]
     },
     "execution_count": 7,
     "metadata": {},
     "output_type": "execute_result"
    }
   ],
   "source": [
    "let quadrante {x; y} =\n",
    "    match x>=0.,y>=0. with\n",
    "    | true,true -> 1\n",
    "    | false,true -> 2\n",
    "    | false,false -> 3\n",
    "    | true,false -> 4 ;;"
   ]
  },
  {
   "cell_type": "markdown",
   "id": "bfb55124",
   "metadata": {
    "slideshow": {
     "slide_type": "fragment"
    }
   },
   "source": [
    "Oppure possiamo accedere ai campi usando la *dot notation*: `p.x` e `p.y`"
   ]
  },
  {
   "cell_type": "code",
   "execution_count": 8,
   "id": "c6f776c2",
   "metadata": {},
   "outputs": [
    {
     "data": {
      "text/plain": [
       "val quadrante : punto_2d -> int = <fun>\n"
      ]
     },
     "execution_count": 8,
     "metadata": {},
     "output_type": "execute_result"
    }
   ],
   "source": [
    "let quadrante p =\n",
    "    match p.x>=0.,p.y>=0. with\n",
    "    | true,true -> 1\n",
    "    | false,true -> 2\n",
    "    | false,false -> 3\n",
    "    | true,false -> 4 ;;"
   ]
  },
  {
   "cell_type": "markdown",
   "id": "df694f69",
   "metadata": {
    "slideshow": {
     "slide_type": "slide"
    }
   },
   "source": [
    "La dot notation consente di usare più variabili di tipo record in modo semplice"
   ]
  },
  {
   "cell_type": "code",
   "execution_count": 32,
   "id": "731830a3",
   "metadata": {
    "cell_style": "center"
   },
   "outputs": [
    {
     "data": {
      "text/plain": [
       "val p : punto_2d = {x = 3.; y = 3.}\n"
      ]
     },
     "execution_count": 32,
     "metadata": {},
     "output_type": "execute_result"
    },
    {
     "data": {
      "text/plain": [
       "val q : punto_2d = {x = 6.; y = 7.}\n"
      ]
     },
     "execution_count": 32,
     "metadata": {},
     "output_type": "execute_result"
    },
    {
     "data": {
      "text/plain": [
       "- : float = 3.\n"
      ]
     },
     "execution_count": 32,
     "metadata": {},
     "output_type": "execute_result"
    }
   ],
   "source": [
    "let p = {x=3.; y=3.} ;;\n",
    "let q = {x=6.; y=7.} ;;\n",
    "p.x ;;"
   ]
  },
  {
   "cell_type": "markdown",
   "id": "2c0f1770",
   "metadata": {
    "cell_style": "center"
   },
   "source": [
    "Esempio: Distanza tra due punti nel piano ($d = \\sqrt{(x_2-x_1)^2+(y_2-y_1)^2}$ )"
   ]
  },
  {
   "cell_type": "code",
   "execution_count": 30,
   "id": "f40913f9",
   "metadata": {
    "cell_style": "center",
    "slideshow": {
     "slide_type": "fragment"
    }
   },
   "outputs": [
    {
     "data": {
      "text/plain": [
       "val distanza : punto_2d -> punto_2d -> float = <fun>\n"
      ]
     },
     "execution_count": 30,
     "metadata": {},
     "output_type": "execute_result"
    }
   ],
   "source": [
    "let distanza p1 p2 =\n",
    "    sqrt ( (p2.x -. p1.x)**2. +. (p2.y -. p1.y)**2. ) ;;"
   ]
  },
  {
   "cell_type": "code",
   "execution_count": 33,
   "id": "21f07df4",
   "metadata": {
    "cell_style": "center",
    "slideshow": {
     "slide_type": "-"
    }
   },
   "outputs": [
    {
     "data": {
      "text/plain": [
       "- : float = 5.\n"
      ]
     },
     "execution_count": 33,
     "metadata": {},
     "output_type": "execute_result"
    }
   ],
   "source": [
    "distanza p q ;;"
   ]
  },
  {
   "cell_type": "markdown",
   "id": "c67f56fe",
   "metadata": {
    "slideshow": {
     "slide_type": "slide"
    }
   },
   "source": [
    "Quando si usano record con molti campi, le operazioni possono diventare verbose"
   ]
  },
  {
   "cell_type": "code",
   "execution_count": 12,
   "id": "d5b3e9ce",
   "metadata": {},
   "outputs": [
    {
     "data": {
      "text/plain": [
       "type persona = {\n",
       "  nome : string;\n",
       "  cognome : string;\n",
       "  eta : int;\n",
       "  indirizzo : string;\n",
       "  citta : string;\n",
       "}\n"
      ]
     },
     "execution_count": 12,
     "metadata": {},
     "output_type": "execute_result"
    }
   ],
   "source": [
    "type persona = {nome: string; cognome: string; eta: int; indirizzo: string; citta: string} ;;"
   ]
  },
  {
   "cell_type": "code",
   "execution_count": 13,
   "id": "91047b8d",
   "metadata": {},
   "outputs": [
    {
     "data": {
      "text/plain": [
       "val mario : persona =\n",
       "  {nome = \"Mario\"; cognome = \"Rossi\"; eta = 45; indirizzo = \"Via Roma 10\";\n",
       "   citta = \"Pisa\"}\n"
      ]
     },
     "execution_count": 13,
     "metadata": {},
     "output_type": "execute_result"
    }
   ],
   "source": [
    "let mario = {nome=\"Mario\"; cognome=\"Rossi\"; eta=45; indirizzo=\"Via Roma 10\"; citta=\"Pisa\"} ;;"
   ]
  },
  {
   "cell_type": "markdown",
   "id": "bbe4e2cd",
   "metadata": {
    "slideshow": {
     "slide_type": "fragment"
    }
   },
   "source": [
    "Una piccola semplificazione è che possiamo definire una variabile in funzione di un'altra usando il costrutto di *functional update* `with`"
   ]
  },
  {
   "cell_type": "code",
   "execution_count": 14,
   "id": "8608bb9e",
   "metadata": {},
   "outputs": [
    {
     "data": {
      "text/plain": [
       "val bianca : persona =\n",
       "  {nome = \"Bianca\"; cognome = \"Rossi\"; eta = 13; indirizzo = \"Via Roma 10\";\n",
       "   citta = \"Pisa\"}\n"
      ]
     },
     "execution_count": 14,
     "metadata": {},
     "output_type": "execute_result"
    }
   ],
   "source": [
    "let bianca = { mario with nome = \"Bianca\"; eta=13 } ;;"
   ]
  },
  {
   "cell_type": "markdown",
   "id": "f39d9797",
   "metadata": {
    "slideshow": {
     "slide_type": "slide"
    }
   },
   "source": [
    "## TODO: Digressone: record e oggetti\n",
    "I record assomigliano a dizionari in JavaScript, e potrebbero sembrare oggetti \"assegnando\" funzioni agli elementi\n",
    "\n",
    "La differenza con gli oggetti è che sono immutabili (le variabili non rappresentano uno stato interno... che è una caratteristica di base della programmazione a oggetti)"
   ]
  },
  {
   "cell_type": "code",
   "execution_count": 15,
   "id": "abe6157a",
   "metadata": {
    "slideshow": {
     "slide_type": "-"
    }
   },
   "outputs": [
    {
     "data": {
      "text/plain": [
       "- : bool = false\n"
      ]
     },
     "execution_count": 15,
     "metadata": {},
     "output_type": "execute_result"
    }
   ],
   "source": [
    "p.x = 10.;;"
   ]
  },
  {
   "cell_type": "code",
   "execution_count": 16,
   "id": "5dd4a38b",
   "metadata": {},
   "outputs": [
    {
     "data": {
      "text/plain": [
       "type finto_oggetto = { x : int; update : int -> int; }\n"
      ]
     },
     "execution_count": 16,
     "metadata": {},
     "output_type": "execute_result"
    }
   ],
   "source": [
    "type finto_oggetto = { x: int; update: int -> int } ;;"
   ]
  },
  {
   "cell_type": "code",
   "execution_count": 17,
   "id": "6d1c90a3",
   "metadata": {},
   "outputs": [
    {
     "ename": "error",
     "evalue": "compile_error",
     "output_type": "error",
     "traceback": [
      "File \"[17]\", line 1, characters 36-37:\n1 | let o = { x = 10; update = fun y -> x + y} ;;\n                                        ^\nError: Unbound value x\n"
     ]
    }
   ],
   "source": [
    "let o = { x = 10; update = fun y -> x + y} ;;"
   ]
  },
  {
   "cell_type": "markdown",
   "id": "fcc6416c",
   "metadata": {
    "slideshow": {
     "slide_type": "slide"
    }
   },
   "source": [
    "## Tipi unione (o somma): variant\n",
    "\n",
    "L'unione di due insiemi è... l'unione di due insiemi!\n",
    "* $C = A \\cup B$\n",
    "* $x \\in C$ se e solo se $x \\in A$ oppure $x \\in B$\n",
    "\n",
    "L'unione di due tipi `t1` e `t2` è un nuovo tipo `t` che idealmente \"include\" tutti i valori di tipo `t1` e `t2`"
   ]
  },
  {
   "cell_type": "markdown",
   "id": "5767027e",
   "metadata": {
    "slideshow": {
     "slide_type": "fragment"
    }
   },
   "source": [
    "Mentre in alcuni linguaggi (ad es. TypeScript) si possono unire direttamente due tipi, scrivendo ad esempio:\n",
    "\n",
    "```\n",
    "[TYPESCRIPT] type t = string | int\n",
    "```\n",
    "\n",
    "l'operazione di unione prevista da OCaml prevede di *etichettare* i valori dei tipi da unire"
   ]
  },
  {
   "cell_type": "markdown",
   "id": "a05963ea",
   "metadata": {
    "slideshow": {
     "slide_type": "slide"
    }
   },
   "source": [
    "Ad esempio, per unire i tipi `string` e `int`, dobbiamo scegliere due etichette (ad esempio `Txt` e `Num`) e usarle in questo modo:"
   ]
  },
  {
   "cell_type": "code",
   "execution_count": 88,
   "id": "334d6059",
   "metadata": {},
   "outputs": [
    {
     "data": {
      "text/plain": [
       "type numero_testo = Txt of string | Num of int\n"
      ]
     },
     "execution_count": 88,
     "metadata": {},
     "output_type": "execute_result"
    }
   ],
   "source": [
    "type numero_testo =\n",
    "    | Txt of string\n",
    "    | Num of int ;;"
   ]
  },
  {
   "cell_type": "markdown",
   "id": "014a91e5",
   "metadata": {},
   "source": [
    "In sostanza, ogni riga della definizione corrisponde a un caso possibile di tipo di valore, ed è caratterizzato da una etichetta distinta (detta *costruttore*)\n",
    "\n",
    "**ATTENZIONE:** I costruttori devono necessariamente iniziare con la lettera maiuscola"
   ]
  },
  {
   "cell_type": "markdown",
   "id": "04a5a2ca",
   "metadata": {
    "slideshow": {
     "slide_type": "slide"
    }
   },
   "source": [
    "Anche i valori del nuovo tipo dovranno essere etichettati nello stesso modo:"
   ]
  },
  {
   "cell_type": "code",
   "execution_count": 19,
   "id": "53d7d360",
   "metadata": {},
   "outputs": [
    {
     "data": {
      "text/plain": [
       "val x : numero_testo = Txt \"34\"\n"
      ]
     },
     "execution_count": 19,
     "metadata": {},
     "output_type": "execute_result"
    },
    {
     "data": {
      "text/plain": [
       "val y : numero_testo = Num 26\n"
      ]
     },
     "execution_count": 19,
     "metadata": {},
     "output_type": "execute_result"
    }
   ],
   "source": [
    "let x = Txt \"34\" ;;\n",
    "let y = Num 26 ;;"
   ]
  },
  {
   "cell_type": "markdown",
   "id": "cb063dc3",
   "metadata": {
    "slideshow": {
     "slide_type": "fragment"
    }
   },
   "source": [
    "Dato un valore, è possibile ricostruire a quale dei tipi che sono stati uniti appartenga usando i costruttori nel pattern matching"
   ]
  },
  {
   "cell_type": "code",
   "execution_count": 20,
   "id": "1d472e59",
   "metadata": {
    "slideshow": {
     "slide_type": "-"
    }
   },
   "outputs": [
    {
     "data": {
      "text/plain": [
       "- : string = \"testo\"\n"
      ]
     },
     "execution_count": 20,
     "metadata": {},
     "output_type": "execute_result"
    }
   ],
   "source": [
    "match x with\n",
    "| Txt s -> \"testo\"\n",
    "| Num n -> \"numero\" ;;"
   ]
  },
  {
   "cell_type": "markdown",
   "id": "c639c982",
   "metadata": {
    "slideshow": {
     "slide_type": "slide"
    }
   },
   "source": [
    "Qualche esempio di funzione che usa il tipo `numero_testo`:"
   ]
  },
  {
   "cell_type": "code",
   "execution_count": 21,
   "id": "71e4d9e3",
   "metadata": {},
   "outputs": [
    {
     "data": {
      "text/plain": [
       "val int_of_nt : numero_testo -> int = <fun>\n"
      ]
     },
     "execution_count": 21,
     "metadata": {},
     "output_type": "execute_result"
    },
    {
     "data": {
      "text/plain": [
       "val string_of_nt : numero_testo -> string = <fun>\n"
      ]
     },
     "execution_count": 21,
     "metadata": {},
     "output_type": "execute_result"
    },
    {
     "data": {
      "text/plain": [
       "- : int = 4\n"
      ]
     },
     "execution_count": 21,
     "metadata": {},
     "output_type": "execute_result"
    }
   ],
   "source": [
    "let int_of_nt x =\n",
    "    match x with\n",
    "    | Txt s -> int_of_string s\n",
    "    | Num n -> n ;;\n",
    "    \n",
    "let string_of_nt x =\n",
    "    match x with\n",
    "    | Txt s -> s\n",
    "    | Num n -> string_of_int n ;;\n",
    "    \n",
    "int_of_nt (Txt \"4\") ;;"
   ]
  },
  {
   "cell_type": "markdown",
   "id": "5d355864",
   "metadata": {
    "slideshow": {
     "slide_type": "slide"
    }
   },
   "source": [
    "Nella dichiarazione di un tipo unione, la parte `of <tipo>` è facoltativa\n",
    "* si possono definire casi che consistono solo del costruttore\n",
    "* sono come \"singoletti\" nell'insiemistica"
   ]
  },
  {
   "cell_type": "markdown",
   "id": "dc16f821",
   "metadata": {
    "slideshow": {
     "slide_type": "slide"
    }
   },
   "source": [
    "Usando i soli costruttori, si possono definire *tipi enumerazione*\n",
    "* In molti linguaggi chiamati *enum*"
   ]
  },
  {
   "cell_type": "code",
   "execution_count": 107,
   "id": "97f7fb04",
   "metadata": {},
   "outputs": [
    {
     "data": {
      "text/plain": [
       "type giorno = Lun | Mar | Mer | Gio | Ven | Sab | Dom\n"
      ]
     },
     "execution_count": 107,
     "metadata": {},
     "output_type": "execute_result"
    }
   ],
   "source": [
    "type giorno = Lun | Mar | Mer | Gio | Ven | Sab | Dom ;;"
   ]
  },
  {
   "cell_type": "code",
   "execution_count": 108,
   "id": "8e3893c8",
   "metadata": {},
   "outputs": [
    {
     "data": {
      "text/plain": [
       "- : giorno = Gio\n"
      ]
     },
     "execution_count": 108,
     "metadata": {},
     "output_type": "execute_result"
    }
   ],
   "source": [
    "Gio ;;"
   ]
  },
  {
   "cell_type": "code",
   "execution_count": 103,
   "id": "ef02ebda",
   "metadata": {
    "slideshow": {
     "slide_type": "fragment"
    }
   },
   "outputs": [
    {
     "data": {
      "text/plain": [
       "val is_weekend : giorno -> bool = <fun>\n"
      ]
     },
     "execution_count": 103,
     "metadata": {},
     "output_type": "execute_result"
    }
   ],
   "source": [
    "let is_weekend g =\n",
    "    match g with\n",
    "    | Sab | Dom -> true\n",
    "    | _ -> false ;;"
   ]
  },
  {
   "cell_type": "markdown",
   "id": "6b715084",
   "metadata": {
    "slideshow": {
     "slide_type": "slide"
    }
   },
   "source": [
    "Un esempio più complesso: \n",
    "* tipo `int` esteso con `NaN`, $+ \\infty$ e $- \\infty$"
   ]
  },
  {
   "cell_type": "code",
   "execution_count": 22,
   "id": "a9c83776",
   "metadata": {},
   "outputs": [
    {
     "data": {
      "text/plain": [
       "type int_ext = Num of int | NaN | Plus_inf | Minus_inf\n"
      ]
     },
     "execution_count": 22,
     "metadata": {},
     "output_type": "execute_result"
    }
   ],
   "source": [
    "type int_ext =\n",
    "    | Num of int\n",
    "    | NaN\n",
    "    | Plus_inf\n",
    "    | Minus_inf ;;"
   ]
  },
  {
   "cell_type": "markdown",
   "id": "eb20aeb1",
   "metadata": {
    "slideshow": {
     "slide_type": "slide"
    }
   },
   "source": [
    "Definiamo un po' di operazioni artimetiche sul nuovo tipo"
   ]
  },
  {
   "cell_type": "code",
   "execution_count": 52,
   "id": "2fa66245",
   "metadata": {
    "slideshow": {
     "slide_type": "-"
    }
   },
   "outputs": [
    {
     "data": {
      "text/plain": [
       "val sum : int_ext -> int_ext -> int_ext = <fun>\n"
      ]
     },
     "execution_count": 52,
     "metadata": {},
     "output_type": "execute_result"
    }
   ],
   "source": [
    "let sum x y =\n",
    "    match x,y with\n",
    "    | NaN,_ | _,NaN -> NaN\n",
    "    | Plus_inf,Minus_inf | Minus_inf,Plus_inf -> NaN\n",
    "    | Plus_inf,_ | _,Plus_inf -> Plus_inf\n",
    "    | Minus_inf,_ | _,Minus_inf -> Minus_inf\n",
    "    | Num n1,Num n2 -> Num (n1+n2) ;;"
   ]
  },
  {
   "cell_type": "markdown",
   "id": "bba59418",
   "metadata": {
    "slideshow": {
     "slide_type": "-"
    }
   },
   "source": [
    "**ATTEZIONE:** nessun warning: il pattern matching è esausivo\n",
    "* non abbiamo scordato casi!"
   ]
  },
  {
   "cell_type": "markdown",
   "id": "82f18e9a",
   "metadata": {
    "slideshow": {
     "slide_type": "slide"
    }
   },
   "source": [
    "Ancora:"
   ]
  },
  {
   "cell_type": "code",
   "execution_count": 59,
   "id": "40bf2762",
   "metadata": {},
   "outputs": [
    {
     "data": {
      "text/plain": [
       "val div : int_ext -> int_ext -> int_ext = <fun>\n"
      ]
     },
     "execution_count": 59,
     "metadata": {},
     "output_type": "execute_result"
    }
   ],
   "source": [
    "let div x y =\n",
    "    match x,y with\n",
    "    | NaN,_ | _,NaN -> NaN\n",
    "    | Plus_inf,Plus_inf | Minus_inf,Minus_inf -> NaN\n",
    "    | Plus_inf,Minus_inf | Minus_inf,Plus_inf -> NaN\n",
    "    | Plus_inf,_ -> Plus_inf\n",
    "    | Minus_inf,_ -> Minus_inf\n",
    "    | _,Plus_inf | _,Minus_inf -> Num 0\n",
    "    | Num 0,Num 0 -> NaN\n",
    "    | Num n,Num 0 -> if n>0 then Plus_inf else Minus_inf \n",
    "    | Num n1,Num n2 -> Num (n1/n2) ;;"
   ]
  },
  {
   "cell_type": "code",
   "execution_count": 65,
   "id": "688f91d3",
   "metadata": {
    "cell_style": "split",
    "slideshow": {
     "slide_type": "fragment"
    }
   },
   "outputs": [
    {
     "data": {
      "text/plain": [
       "- : int_ext = Plus_inf\n"
      ]
     },
     "execution_count": 65,
     "metadata": {},
     "output_type": "execute_result"
    }
   ],
   "source": [
    "div (Num 3) (Num 0) ;;"
   ]
  },
  {
   "cell_type": "markdown",
   "id": "a6fcddd4",
   "metadata": {
    "cell_style": "split"
   },
   "source": [
    "$3/0$\n"
   ]
  },
  {
   "cell_type": "code",
   "execution_count": 66,
   "id": "9b52b28f",
   "metadata": {
    "cell_style": "split"
   },
   "outputs": [
    {
     "data": {
      "text/plain": [
       "- : int_ext = Num 5\n"
      ]
     },
     "execution_count": 66,
     "metadata": {},
     "output_type": "execute_result"
    }
   ],
   "source": [
    "sum (Num 5) (div (Num 3) (Plus_inf)) ;;"
   ]
  },
  {
   "cell_type": "markdown",
   "id": "b3ee187d",
   "metadata": {
    "cell_style": "split"
   },
   "source": [
    "$5 + (3 \\,/ \\!+\\!\\infty)$"
   ]
  },
  {
   "cell_type": "markdown",
   "id": "cf5525f9",
   "metadata": {
    "slideshow": {
     "slide_type": "slide"
    }
   },
   "source": [
    "### Tipi opzione e tipi polimorfi\n",
    "\n",
    "Un esempio di tipo variant molto utilizzato (e *built-in* in OCaml) è il tipo opzione\n",
    "* consente di specificare un valore che può essere assente\n",
    "* usa i costruttori `Some` e `None`"
   ]
  },
  {
   "cell_type": "code",
   "execution_count": 67,
   "id": "c8ab2516",
   "metadata": {},
   "outputs": [
    {
     "data": {
      "text/plain": [
       "- : int option = Some 4\n"
      ]
     },
     "execution_count": 67,
     "metadata": {},
     "output_type": "execute_result"
    }
   ],
   "source": [
    "Some 4;;"
   ]
  },
  {
   "cell_type": "code",
   "execution_count": 69,
   "id": "171bf522",
   "metadata": {},
   "outputs": [
    {
     "data": {
      "text/plain": [
       "- : 'a option = None\n"
      ]
     },
     "execution_count": 69,
     "metadata": {},
     "output_type": "execute_result"
    }
   ],
   "source": [
    "None ;;"
   ]
  },
  {
   "cell_type": "markdown",
   "id": "ba892503",
   "metadata": {
    "slideshow": {
     "slide_type": "slide"
    }
   },
   "source": [
    "I tipi opzione consentono di definire funzioni che restituiscono `None` in casi particolari"
   ]
  },
  {
   "cell_type": "code",
   "execution_count": 96,
   "id": "fda8d55b",
   "metadata": {},
   "outputs": [
    {
     "data": {
      "text/plain": [
       "val massimo : 'a list -> 'a option = <fun>\n"
      ]
     },
     "execution_count": 96,
     "metadata": {},
     "output_type": "execute_result"
    }
   ],
   "source": [
    "let rec massimo lis =\n",
    "    match lis with\n",
    "    | [] -> None   \n",
    "    | x::lis' ->  match massimo lis' with\n",
    "                    | None -> Some x \n",
    "                    | Some max -> if x>max then Some x\n",
    "                                    else Some max ;;           "
   ]
  },
  {
   "cell_type": "code",
   "execution_count": 97,
   "id": "a959294f",
   "metadata": {
    "slideshow": {
     "slide_type": "fragment"
    }
   },
   "outputs": [
    {
     "data": {
      "text/plain": [
       "- : int option = Some 4\n"
      ]
     },
     "execution_count": 97,
     "metadata": {},
     "output_type": "execute_result"
    },
    {
     "data": {
      "text/plain": [
       "- : string option = Some \"cane\"\n"
      ]
     },
     "execution_count": 97,
     "metadata": {},
     "output_type": "execute_result"
    },
    {
     "data": {
      "text/plain": [
       "- : 'a option = None\n"
      ]
     },
     "execution_count": 97,
     "metadata": {},
     "output_type": "execute_result"
    }
   ],
   "source": [
    "massimo [3;4;2] ;;\n",
    "massimo [\"albero\";\"cane\";\"bambino\"] ;;\n",
    "massimo [] ;;"
   ]
  },
  {
   "cell_type": "markdown",
   "id": "f8ce6ea6",
   "metadata": {
    "slideshow": {
     "slide_type": "slide"
    }
   },
   "source": [
    "I tipi opzione sono (pre-)definiti in questo modo:"
   ]
  },
  {
   "cell_type": "code",
   "execution_count": 85,
   "id": "89abd5ae",
   "metadata": {
    "slideshow": {
     "slide_type": "-"
    }
   },
   "outputs": [
    {
     "data": {
      "text/plain": [
       "type 'a option = Some of 'a | None\n"
      ]
     },
     "execution_count": 85,
     "metadata": {},
     "output_type": "execute_result"
    }
   ],
   "source": [
    "type 'a option =\n",
    "    | Some of 'a\n",
    "    | None ;;"
   ]
  },
  {
   "cell_type": "markdown",
   "id": "d5b37f88",
   "metadata": {},
   "source": [
    "questo esempio mostra come sia possibile definire *tipi polimorfi*\n",
    "* usando le variabili di tipo `'a`, `'b`, ..."
   ]
  },
  {
   "cell_type": "markdown",
   "id": "8c7df324",
   "metadata": {},
   "source": [
    "## TODO: esempio con tipi variant e record insieme"
   ]
  },
  {
   "cell_type": "markdown",
   "id": "b3724619",
   "metadata": {
    "slideshow": {
     "slide_type": "slide"
    }
   },
   "source": [
    "## Tipi ricorsivi\n",
    "Un'importante generalizzazione dei tipi unione sono i *tipi ricorsivi*\n",
    "* sono tipi variant definiti in termini di se stessi"
   ]
  },
  {
   "cell_type": "code",
   "execution_count": 124,
   "id": "579179ee",
   "metadata": {},
   "outputs": [
    {
     "data": {
      "text/plain": [
       "type lista_di_int = Nil | Elem of int * lista_di_int\n"
      ]
     },
     "execution_count": 124,
     "metadata": {},
     "output_type": "execute_result"
    },
    {
     "data": {
      "text/plain": [
       "val lst : lista_di_int = Elem (3, Elem (4, Elem (6, Nil)))\n"
      ]
     },
     "execution_count": 124,
     "metadata": {},
     "output_type": "execute_result"
    }
   ],
   "source": [
    "type lista_di_int =\n",
    "    | Nil\n",
    "    | Elem of int * lista_di_int ;;\n",
    "    \n",
    "let lst = Elem (3 ,Elem (4, Elem (6,Nil))) ;;"
   ]
  },
  {
   "cell_type": "code",
   "execution_count": 125,
   "id": "49505aa5",
   "metadata": {},
   "outputs": [
    {
     "data": {
      "text/plain": [
       "val cons : int -> lista_di_int -> lista_di_int = <fun>\n"
      ]
     },
     "execution_count": 125,
     "metadata": {},
     "output_type": "execute_result"
    },
    {
     "data": {
      "text/plain": [
       "- : lista_di_int = Elem (5, Elem (3, Elem (4, Elem (6, Nil))))\n"
      ]
     },
     "execution_count": 125,
     "metadata": {},
     "output_type": "execute_result"
    }
   ],
   "source": [
    "let cons x lis =\n",
    "    Elem (x,lis) ;;\n",
    "\n",
    "cons 5 lst;;"
   ]
  },
  {
   "cell_type": "code",
   "execution_count": 127,
   "id": "22f358d8",
   "metadata": {},
   "outputs": [
    {
     "data": {
      "text/plain": [
       "val somma_lista : lista_di_int -> int = <fun>\n"
      ]
     },
     "execution_count": 127,
     "metadata": {},
     "output_type": "execute_result"
    }
   ],
   "source": [
    "let rec somma_lista lis = \n",
    "    match lis with\n",
    "    | Nil -> 0\n",
    "    | Elem (x,lis') -> x + somma_lista lis' ;;"
   ]
  },
  {
   "cell_type": "code",
   "execution_count": 129,
   "id": "5a8da68a",
   "metadata": {},
   "outputs": [
    {
     "data": {
      "text/plain": [
       "- : int = 13\n"
      ]
     },
     "execution_count": 129,
     "metadata": {},
     "output_type": "execute_result"
    }
   ],
   "source": [
    "somma_lista ( Elem (3 ,Elem (4, Elem (6,Nil))));;"
   ]
  },
  {
   "cell_type": "markdown",
   "id": "1eeb3387",
   "metadata": {
    "slideshow": {
     "slide_type": "slide"
    }
   },
   "source": [
    "Il tipo built-in `'a list` è un caso particolare di variant ricorsivo polimorfo"
   ]
  },
  {
   "cell_type": "code",
   "execution_count": 1,
   "id": "f186076e",
   "metadata": {},
   "outputs": [
    {
     "data": {
      "text/plain": [
       "type 'a my_list = [] | Cons of 'a * 'a my_list\n"
      ]
     },
     "execution_count": 1,
     "metadata": {},
     "output_type": "execute_result"
    }
   ],
   "source": [
    "type 'a my_list =\n",
    "   | []\n",
    "   | Cons of 'a * 'a my_list ;; "
   ]
  },
  {
   "cell_type": "code",
   "execution_count": 4,
   "id": "98e84bcc",
   "metadata": {},
   "outputs": [
    {
     "data": {
      "text/plain": [
       "- : 'a my_list = []\n"
      ]
     },
     "execution_count": 4,
     "metadata": {},
     "output_type": "execute_result"
    },
    {
     "data": {
      "text/plain": [
       "- : int my_list = Cons (3, Cons (4, Cons (1, [])))\n"
      ]
     },
     "execution_count": 4,
     "metadata": {},
     "output_type": "execute_result"
    },
    {
     "data": {
      "text/plain": [
       "- : string my_list = Cons (\"a\", Cons (\"b\", []))\n"
      ]
     },
     "execution_count": 4,
     "metadata": {},
     "output_type": "execute_result"
    }
   ],
   "source": [
    "[] ;;\n",
    "Cons (3, Cons (4, Cons (1,[]))) ;; (* corrisponde a 3::4::1 *)\n",
    "Cons (\"a\", Cons (\"b\",[])) ;; (* corrisponde a \"a\"::\"b\"::[] *)"
   ]
  },
  {
   "cell_type": "markdown",
   "id": "6f50751a",
   "metadata": {},
   "source": [
    "Per semplificare la lettura, OCaml usa una sintassi ad-hoc per i valori di tipo `'a list` \n",
    "* `[x1;x2;...]`"
   ]
  },
  {
   "cell_type": "markdown",
   "id": "97f78763",
   "metadata": {
    "slideshow": {
     "slide_type": "slide"
    }
   },
   "source": [
    "### Tipi ricorsivi e... Alberi\n",
    "Grazie ai tipi ricorsivi è semplice definire alberi"
   ]
  },
  {
   "cell_type": "code",
   "execution_count": 29,
   "id": "31491188",
   "metadata": {},
   "outputs": [
    {
     "data": {
      "text/plain": [
       "type albero_bin = Nodo of int * albero_bin * albero_bin | Foglia of int\n"
      ]
     },
     "execution_count": 29,
     "metadata": {},
     "output_type": "execute_result"
    }
   ],
   "source": [
    "type albero_bin = \n",
    "  | Nodo of int*albero_bin*albero_bin \n",
    "  | Foglia of int ;;"
   ]
  },
  {
   "cell_type": "code",
   "execution_count": 35,
   "id": "95078ff7",
   "metadata": {},
   "outputs": [
    {
     "data": {
      "text/plain": [
       "val n1 : albero_bin = Foglia 4\n"
      ]
     },
     "execution_count": 35,
     "metadata": {},
     "output_type": "execute_result"
    },
    {
     "data": {
      "text/plain": [
       "val n2 : albero_bin = Foglia 6\n"
      ]
     },
     "execution_count": 35,
     "metadata": {},
     "output_type": "execute_result"
    },
    {
     "data": {
      "text/plain": [
       "val n3 : albero_bin = Nodo (2, Foglia 4, Foglia 6)\n"
      ]
     },
     "execution_count": 35,
     "metadata": {},
     "output_type": "execute_result"
    },
    {
     "data": {
      "text/plain": [
       "val n4 : albero_bin = Foglia 8\n"
      ]
     },
     "execution_count": 35,
     "metadata": {},
     "output_type": "execute_result"
    },
    {
     "data": {
      "text/plain": [
       "val n5 : albero_bin = Nodo (5, Nodo (2, Foglia 4, Foglia 6), Foglia 8)\n"
      ]
     },
     "execution_count": 35,
     "metadata": {},
     "output_type": "execute_result"
    }
   ],
   "source": [
    "let n1 = Foglia 4 ;;\n",
    "let n2 = Foglia 6 ;;\n",
    "let n3 = Nodo (2,n1,n2) ;;\n",
    "let n4 = Foglia 8 ;;\n",
    "let n5 = Nodo (5,n3,n4) ;;"
   ]
  },
  {
   "cell_type": "code",
   "execution_count": 34,
   "id": "36d1b7a4",
   "metadata": {},
   "outputs": [
    {
     "data": {
      "text/plain": [
       "val visita_ant : albero_bin -> int list = <fun>\n"
      ]
     },
     "execution_count": 34,
     "metadata": {},
     "output_type": "execute_result"
    },
    {
     "data": {
      "text/plain": [
       "- : int list = [5; 2; 4; 6; 8]\n"
      ]
     },
     "execution_count": 34,
     "metadata": {},
     "output_type": "execute_result"
    }
   ],
   "source": [
    "let visita_ant a =\n",
    "    match a with\n",
    "    | Foglia v -> [v]\n",
    "    | Nodo (v,sx,dx) -> v::((visita_ant sx)@(visita_ant dx)) ;;\n",
    "    \n",
    "visita_ant n5 ;;"
   ]
  },
  {
   "cell_type": "code",
   "execution_count": 40,
   "id": "51ca8049",
   "metadata": {},
   "outputs": [
    {
     "data": {
      "text/plain": [
       "val somma_albero : albero_bin -> int = <fun>\n"
      ]
     },
     "execution_count": 40,
     "metadata": {},
     "output_type": "execute_result"
    },
    {
     "data": {
      "text/plain": [
       "- : int = 25\n"
      ]
     },
     "execution_count": 40,
     "metadata": {},
     "output_type": "execute_result"
    }
   ],
   "source": [
    "let rec somma_albero a =\n",
    "    match a with\n",
    "    | Foglia v -> v\n",
    "    | Nodo (v,sx,dx) -> v + somma_albero sx + somma_albero dx ;;\n",
    "    \n",
    "somma_albero n5 ;;"
   ]
  },
  {
   "cell_type": "markdown",
   "id": "a03be0b5",
   "metadata": {
    "slideshow": {
     "slide_type": "slide"
    }
   },
   "source": [
    "### Tipi ricorsivi e... Abstract Syntax Tree (AST)\n",
    "\n",
    "Tipo di albero utile per gli scopi di questo corso: gli alberi di sintassi astratta"
   ]
  },
  {
   "cell_type": "markdown",
   "id": "26926078",
   "metadata": {
    "slideshow": {
     "slide_type": "slide"
    }
   },
   "source": [
    "## TODO: Discorso tipi algebrici OCaml vs JS/TS\n",
    "Anche in TS ci sono le tuple (ma sono in realtà array). Anche in JS ci sono i record (ma sono in realtà array). Anche in TS ci sono i tipi unione (ma sono molto ambigui)"
   ]
  }
 ],
 "metadata": {
  "celltoolbar": "Slideshow",
  "kernelspec": {
   "display_name": "OCaml default",
   "language": "OCaml",
   "name": "ocaml-jupyter"
  },
  "language_info": {
   "codemirror_mode": "text/x-ocaml",
   "file_extension": ".ml",
   "mimetype": "text/x-ocaml",
   "name": "OCaml",
   "nbconverter_exporter": null,
   "pygments_lexer": "OCaml",
   "version": "4.08.1"
  },
  "rise": {
   "enable_chalkboard": true,
   "scroll": true
  }
 },
 "nbformat": 4,
 "nbformat_minor": 5
}
