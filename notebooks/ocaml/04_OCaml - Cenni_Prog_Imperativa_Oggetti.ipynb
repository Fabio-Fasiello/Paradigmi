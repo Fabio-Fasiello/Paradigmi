{
 "cells": [
  {
   "cell_type": "markdown",
   "id": "e9240ba0",
   "metadata": {
    "slideshow": {
     "slide_type": "slide"
    }
   },
   "source": [
    "# Programmazione imperativa in OCaml (cenni)"
   ]
  },
  {
   "cell_type": "markdown",
   "id": "62baea61",
   "metadata": {
    "slideshow": {
     "slide_type": "notes"
    }
   },
   "source": [
    "In questo capitolo saranno illustrate **XXXXXXXXXXXXXXXXXXXX** del linguaggio OCaml, in particolare relative al paradigma di programmazione funzionale, che quello su cui OCaml si basa principalmente. Il linguaggio prevede comunque aspetti di programmazione imperativa e a oggetti che vedremo successivamente.\n",
    "\n",
    "### Riferimenti\n",
    "\n",
    "Questo capitolo si basa su materiale ed esempi di codice tratti da:\n",
    "\n",
    "- <A href=\"https://dev.realworldocaml.org/\">Real World OCaml</A> (Versione 2), di Yaron Minsky, Anil Madhavapeddy e Jason Hickey\n",
    "\n",
    "La licenza per l'utilizzo del testo e degli esempi di codice è disponibile nel sito indicato.\n",
    "\n",
    "Inoltre, alcuni aspetti del linguaggio possono essere approfonditi consultando il manuale ufficiale di OCaml, disponibile a questo indirizzo:\n",
    "\n",
    "- <A href=\"https://ocaml.org/manual/index.html\">https://ocaml.org/manual/index.html</A>"
   ]
  },
  {
   "cell_type": "markdown",
   "id": "a9235800",
   "metadata": {
    "slideshow": {
     "slide_type": "slide"
    }
   },
   "source": [
    "## Introduzione\n",
    "\n",
    "Fino ad ora abbiamo scritto codice secondo il paradigma funzionale: \n",
    "\n",
    "Abbiamo principalmente definito *funzioni pure*\n",
    "\n",
    "- Calcolano il risultato sulla base dei propri parametri e delle variabili disponibili nella chiusura\n",
    "\n",
    "e variabili/strutture dati *immutabili*\n",
    "\n",
    "- Non è possibile modificarle assegnando nuovi valori"
   ]
  },
  {
   "cell_type": "markdown",
   "id": "621f47f4",
   "metadata": {
    "slideshow": {
     "slide_type": "slide"
    }
   },
   "source": [
    "Nella *programmazione imperativa* invece:\n",
    "\n",
    "* le variabili sono *mutabili* (si possono assegnare a piacimento)\n",
    "* le funzioni causano *side effect* (possono modificare l'ambiente globale)\n",
    "\n",
    "Esempi di side effects:\n",
    "\n",
    "* lettura/assegnamento di una varibile globale\n",
    "* stampa di un messaggio di output / lettura di un input\n",
    "* sollevamento di una eccezione \n",
    "\n",
    "Tutto questo rende le funzioni *impure*\n",
    "\n",
    "* il loro effetto non è più solo calcolare un risultato\n",
    "* il risultato può essere influenzato da fattori esterni (variabili globali/input/...)\n"
   ]
  },
  {
   "cell_type": "markdown",
   "id": "53122634",
   "metadata": {
    "slideshow": {
     "slide_type": "slide"
    }
   },
   "source": [
    "OCaml è concepito principalmente per la programmazione funzionale...\n",
    "\n",
    "* .. ma include anche tutti i costrutti imperativi principali\n",
    "\n",
    "Ne accenneremo brevemente alcuni:\n",
    "\n",
    "* array e record mutabili\n",
    "* riferimenti\n",
    "* cicli\n",
    "* eccezioni\n",
    "\n",
    "Inoltre, OCaml prevede la possibilità di definire *classi e oggetti* in pieno stile object-oriented\n",
    "\n",
    "* questo per il momento non lo vediamo"
   ]
  },
  {
   "cell_type": "markdown",
   "id": "3c990e42",
   "metadata": {
    "slideshow": {
     "slide_type": "slide"
    }
   },
   "source": [
    "## Array\n",
    "\n",
    "Gli array in OCaml:\n",
    "\n",
    "- contengono tutti elementi dello stesso tipo\n",
    "- hanno dimensione fissata al momento della creazione  (come in C, Java, ...)\n",
    "- possono essere acceduti tramite indici numerici (non sono associativi)\n",
    "\n",
    "Definizione di un nuovo array:\n",
    "   \n",
    "- letterale (elencandone gli elementi tra `[|` e `|]`"
   ]
  },
  {
   "cell_type": "code",
   "execution_count": 1,
   "id": "30e5e430",
   "metadata": {},
   "outputs": [
    {
     "data": {
      "text/plain": [
       "val a : int array = [|3; 5; 2|]\n"
      ]
     },
     "execution_count": 1,
     "metadata": {},
     "output_type": "execute_result"
    }
   ],
   "source": [
    "let a = [|3;5;2|] ;;"
   ]
  },
  {
   "cell_type": "markdown",
   "id": "e0ddb966",
   "metadata": {},
   "source": [
    "- tramite `Array.make` (con parametri la dimensione e il valore iniziale degli elementi)"
   ]
  },
  {
   "cell_type": "code",
   "execution_count": 2,
   "id": "df7f66a2",
   "metadata": {},
   "outputs": [
    {
     "data": {
      "text/plain": [
       "- : int array = [|0; 0; 0; 0; 0; 0; 0; 0; 0; 0|]\n"
      ]
     },
     "execution_count": 2,
     "metadata": {},
     "output_type": "execute_result"
    }
   ],
   "source": [
    "Array.make 10 0;;"
   ]
  },
  {
   "cell_type": "markdown",
   "id": "09bb48fb",
   "metadata": {
    "slideshow": {
     "slide_type": "slide"
    }
   },
   "source": [
    "La lunghezza di un array può essere ottenuta tramite `Array.lenght`"
   ]
  },
  {
   "cell_type": "code",
   "execution_count": 3,
   "id": "bce8dc2b",
   "metadata": {},
   "outputs": [
    {
     "data": {
      "text/plain": [
       "val n : int = 3\n"
      ]
     },
     "execution_count": 3,
     "metadata": {},
     "output_type": "execute_result"
    }
   ],
   "source": [
    "let n = Array.length a;;"
   ]
  },
  {
   "cell_type": "markdown",
   "id": "75f19b87",
   "metadata": {
    "slideshow": {
     "slide_type": "slide"
    }
   },
   "source": [
    "Accedere agli elementi di un array (con indici in `0,...,(n-1)`):\n",
    "\n",
    "- in lettura, con la sintassi `.(i)`"
   ]
  },
  {
   "cell_type": "code",
   "execution_count": 4,
   "id": "fe3ea7ed",
   "metadata": {},
   "outputs": [
    {
     "data": {
      "text/plain": [
       "val e : int = 5\n"
      ]
     },
     "execution_count": 4,
     "metadata": {},
     "output_type": "execute_result"
    }
   ],
   "source": [
    "let e = a.(1) ;;"
   ]
  },
  {
   "cell_type": "markdown",
   "id": "9a28b157",
   "metadata": {},
   "source": [
    "- in scrittura, con la sintassi `<-`"
   ]
  },
  {
   "cell_type": "code",
   "execution_count": 5,
   "id": "f1b92656",
   "metadata": {},
   "outputs": [
    {
     "data": {
      "text/plain": [
       "- : unit = ()\n"
      ]
     },
     "execution_count": 5,
     "metadata": {},
     "output_type": "execute_result"
    },
    {
     "data": {
      "text/plain": [
       "- : int array = [|3; 6; 2|]\n"
      ]
     },
     "execution_count": 5,
     "metadata": {},
     "output_type": "execute_result"
    }
   ],
   "source": [
    "a.(1) <- 6 ;;\n",
    "a;;"
   ]
  },
  {
   "cell_type": "markdown",
   "id": "d1012e78",
   "metadata": {
    "slideshow": {
     "slide_type": "slide"
    }
   },
   "source": [
    "### Un commento su `<-`\n",
    "\n",
    "Il costrutto `<-` è un *COMANDO di ASSEGNAMENTO*\n",
    "\n",
    "- è la prima volta che *modifichiamo* qualcosa!\n",
    "\n",
    "Non è l'unico comando di assegnamento\n",
    "\n",
    "- ne vedremo altri con sintassi diversa\n",
    "\n",
    "Il *tipo dei comandi* in OCaml è `unit`\n",
    "\n",
    "- simile a `void` in altri linguaggi di programmazione\n",
    "- descrive le cose che non possono essere valutate a valori\n",
    "- l'unico valore del tipo `unit` è `()`\n"
   ]
  },
  {
   "cell_type": "markdown",
   "id": "2b1cce66",
   "metadata": {
    "slideshow": {
     "slide_type": "slide"
    }
   },
   "source": [
    "## Record mutabili\n",
    "\n",
    "E' possibile rendere mutabili uno o più campi tramite il modificatore `mutable`"
   ]
  },
  {
   "cell_type": "code",
   "execution_count": 6,
   "id": "995aae79",
   "metadata": {},
   "outputs": [
    {
     "data": {
      "text/plain": [
       "type persona = { nome : string; cognome : string; mutable eta : int; }\n"
      ]
     },
     "execution_count": 6,
     "metadata": {},
     "output_type": "execute_result"
    }
   ],
   "source": [
    "type persona = \n",
    "{\n",
    "    nome: string;\n",
    "    cognome: string;\n",
    "    mutable eta: int;\n",
    "}"
   ]
  },
  {
   "cell_type": "code",
   "execution_count": 7,
   "id": "ca0bf615",
   "metadata": {},
   "outputs": [
    {
     "data": {
      "text/plain": [
       "val mario : persona = {nome = \"mario\"; cognome = \"rossi\"; eta = 30}\n"
      ]
     },
     "execution_count": 7,
     "metadata": {},
     "output_type": "execute_result"
    }
   ],
   "source": [
    "let mario = {nome=\"mario\"; cognome=\"rossi\"; eta=30 } ;;"
   ]
  },
  {
   "cell_type": "markdown",
   "id": "76431165",
   "metadata": {
    "slideshow": {
     "slide_type": "slide"
    }
   },
   "source": [
    "Anche in questo caso per l'assegnamento si usa `<-`"
   ]
  },
  {
   "cell_type": "code",
   "execution_count": 8,
   "id": "be5cd8ae",
   "metadata": {
    "slideshow": {
     "slide_type": "-"
    }
   },
   "outputs": [
    {
     "data": {
      "text/plain": [
       "- : unit = ()\n"
      ]
     },
     "execution_count": 8,
     "metadata": {},
     "output_type": "execute_result"
    },
    {
     "data": {
      "text/plain": [
       "- : persona = {nome = \"mario\"; cognome = \"rossi\"; eta = 31}\n"
      ]
     },
     "execution_count": 8,
     "metadata": {},
     "output_type": "execute_result"
    }
   ],
   "source": [
    "mario.eta <- 31 ;;\n",
    "mario ;;"
   ]
  },
  {
   "cell_type": "code",
   "execution_count": 9,
   "id": "4c474331",
   "metadata": {
    "slideshow": {
     "slide_type": "fragment"
    }
   },
   "outputs": [
    {
     "data": {
      "text/plain": [
       "val invecchia : persona -> unit = <fun>\n"
      ]
     },
     "execution_count": 9,
     "metadata": {},
     "output_type": "execute_result"
    },
    {
     "data": {
      "text/plain": [
       "- : unit = ()\n"
      ]
     },
     "execution_count": 9,
     "metadata": {},
     "output_type": "execute_result"
    },
    {
     "data": {
      "text/plain": [
       "- : persona = {nome = \"mario\"; cognome = \"rossi\"; eta = 32}\n"
      ]
     },
     "execution_count": 9,
     "metadata": {},
     "output_type": "execute_result"
    }
   ],
   "source": [
    "let invecchia p =\n",
    "    p.eta <- p.eta + 1;;\n",
    "    \n",
    "invecchia mario;;\n",
    "mario ;;"
   ]
  },
  {
   "cell_type": "markdown",
   "id": "c881e889",
   "metadata": {
    "slideshow": {
     "slide_type": "slide"
    }
   },
   "source": [
    "## Riferimenti (refs)\n",
    "\n",
    "Oltre ad array e record mutabili, è possibile definire anche singole variabili mutabili usando il tipo `ref`\n",
    "\n",
    "Ad esempio:"
   ]
  },
  {
   "cell_type": "code",
   "execution_count": 25,
   "id": "6bfdbd4c",
   "metadata": {},
   "outputs": [
    {
     "data": {
      "text/plain": [
       "val x : int ref = {contents = 12}\n"
      ]
     },
     "execution_count": 25,
     "metadata": {},
     "output_type": "execute_result"
    }
   ],
   "source": [
    "let x = ref 12 ;;"
   ]
  },
  {
   "cell_type": "markdown",
   "id": "e54c18b8",
   "metadata": {},
   "source": [
    "Si definisce la variabile `x` che contiene un *riferimento*\n",
    "\n",
    "* il riferimento punta a un record con un solo campo mutabile `contents` inizializato con il valore passato"
   ]
  },
  {
   "cell_type": "markdown",
   "id": "32e71297",
   "metadata": {
    "slideshow": {
     "slide_type": "slide"
    }
   },
   "source": [
    "E' possibile accedere alla variabile `ref` come record"
   ]
  },
  {
   "cell_type": "code",
   "execution_count": 26,
   "id": "3e1f7dec",
   "metadata": {},
   "outputs": [
    {
     "data": {
      "text/plain": [
       "- : int = 12\n"
      ]
     },
     "execution_count": 26,
     "metadata": {},
     "output_type": "execute_result"
    },
    {
     "data": {
      "text/plain": [
       "- : unit = ()\n"
      ]
     },
     "execution_count": 26,
     "metadata": {},
     "output_type": "execute_result"
    }
   ],
   "source": [
    "x.contents ;;\n",
    "x.contents <- 13;;"
   ]
  },
  {
   "cell_type": "markdown",
   "id": "6b463d79",
   "metadata": {
    "slideshow": {
     "slide_type": "fragment"
    }
   },
   "source": [
    "Ma in realtà c'è una *sintassi specifica*, più semplice:"
   ]
  },
  {
   "cell_type": "code",
   "execution_count": 27,
   "id": "0af3e796",
   "metadata": {},
   "outputs": [
    {
     "data": {
      "text/plain": [
       "- : int = 13\n"
      ]
     },
     "execution_count": 27,
     "metadata": {},
     "output_type": "execute_result"
    },
    {
     "data": {
      "text/plain": [
       "- : unit = ()\n"
      ]
     },
     "execution_count": 27,
     "metadata": {},
     "output_type": "execute_result"
    }
   ],
   "source": [
    "!x ;;            (* corrisponde a x.contents *)\n",
    "x := 14 ;;       (* corrisponde a x.contents <- 14 *)"
   ]
  },
  {
   "cell_type": "markdown",
   "id": "523bba77",
   "metadata": {
    "slideshow": {
     "slide_type": "fragment"
    }
   },
   "source": [
    "L'operazione `!` è detta *dereferenziazione*"
   ]
  },
  {
   "cell_type": "markdown",
   "id": "18f38eee",
   "metadata": {
    "slideshow": {
     "slide_type": "slide"
    }
   },
   "source": [
    "## Sequenze di comandi e cicli"
   ]
  },
  {
   "cell_type": "markdown",
   "id": "4174f3e5",
   "metadata": {},
   "source": [
    "TODO: spiegare brevemente e mostrare un esempio completo con refs e array"
   ]
  },
  {
   "cell_type": "markdown",
   "id": "a2283cfe",
   "metadata": {
    "slideshow": {
     "slide_type": "slide"
    }
   },
   "source": [
    "## Eccezioni"
   ]
  },
  {
   "cell_type": "code",
   "execution_count": 16,
   "id": "cdb1ec05",
   "metadata": {
    "slideshow": {
     "slide_type": "slide"
    }
   },
   "outputs": [
    {
     "data": {
      "text/plain": [
       "- : string -> 'a = <fun>\n"
      ]
     },
     "execution_count": 16,
     "metadata": {},
     "output_type": "execute_result"
    }
   ],
   "source": [
    "failwith ;;"
   ]
  },
  {
   "cell_type": "code",
   "execution_count": 17,
   "id": "a3a9b0de",
   "metadata": {},
   "outputs": [
    {
     "ename": "error",
     "evalue": "runtime_error",
     "output_type": "error",
     "traceback": [
      "\u001b[31mException: Failure \"aaa\".\nRaised at file \"stdlib.ml\", line 29, characters 22-33\nCalled from file \"toplevel/toploop.ml\", line 208, characters 17-27\n\u001b[0m"
     ]
    }
   ],
   "source": [
    "failwith \"aaa\";;"
   ]
  },
  {
   "cell_type": "code",
   "execution_count": 18,
   "id": "11d0d0de",
   "metadata": {},
   "outputs": [
    {
     "ename": "error",
     "evalue": "compile_error",
     "output_type": "error",
     "traceback": [
      "File \"[18]\", line 1, characters 7-9:\n1 | assert ;;\n           ^^\nError: Syntax error\n"
     ]
    }
   ],
   "source": [
    "assert ;;"
   ]
  },
  {
   "cell_type": "code",
   "execution_count": 19,
   "id": "36a0a013",
   "metadata": {},
   "outputs": [
    {
     "data": {
      "text/plain": [
       "- : exn -> 'a = <fun>\n"
      ]
     },
     "execution_count": 19,
     "metadata": {},
     "output_type": "execute_result"
    }
   ],
   "source": [
    "raise ;;"
   ]
  },
  {
   "cell_type": "code",
   "execution_count": 20,
   "id": "4cc6c7c5",
   "metadata": {},
   "outputs": [
    {
     "ename": "error",
     "evalue": "compile_error",
     "output_type": "error",
     "traceback": [
      "File \"[20]\", line 1, characters 0-6:\n1 | printf ;;\n    ^^^^^^\nError: Unbound value printf\n"
     ]
    }
   ],
   "source": [
    "printf ;;"
   ]
  },
  {
   "cell_type": "code",
   "execution_count": 21,
   "id": "f2db6e38",
   "metadata": {},
   "outputs": [
    {
     "name": "stdout",
     "output_type": "stream",
     "text": [
      "3.\n"
     ]
    },
    {
     "data": {
      "text/plain": [
       "- : unit = ()\n"
      ]
     },
     "execution_count": 21,
     "metadata": {},
     "output_type": "execute_result"
    }
   ],
   "source": [
    "print_float 3.;\n",
    "print_endline \"\";;"
   ]
  },
  {
   "cell_type": "code",
   "execution_count": 22,
   "id": "19633c13",
   "metadata": {},
   "outputs": [
    {
     "data": {
      "text/plain": [
       "- : unit = ()\n"
      ]
     },
     "execution_count": 22,
     "metadata": {},
     "output_type": "execute_result"
    }
   ],
   "source": [
    "print_string \"CCC\";\n",
    "flush stdout ;;"
   ]
  },
  {
   "cell_type": "code",
   "execution_count": 23,
   "id": "d1d190e7",
   "metadata": {},
   "outputs": [
    {
     "name": "stdout",
     "output_type": "stream",
     "text": [
      "CCCciao\n"
     ]
    },
    {
     "data": {
      "text/plain": [
       "- : unit = ()\n"
      ]
     },
     "execution_count": 23,
     "metadata": {},
     "output_type": "execute_result"
    }
   ],
   "source": [
    "print_newline (print_string \"ciao\");;"
   ]
  },
  {
   "cell_type": "code",
   "execution_count": null,
   "id": "39b51a90",
   "metadata": {},
   "outputs": [],
   "source": []
  }
 ],
 "metadata": {
  "celltoolbar": "Slideshow",
  "kernelspec": {
   "display_name": "OCaml default",
   "language": "OCaml",
   "name": "ocaml-jupyter"
  },
  "language_info": {
   "codemirror_mode": "text/x-ocaml",
   "file_extension": ".ml",
   "mimetype": "text/x-ocaml",
   "name": "OCaml",
   "nbconverter_exporter": null,
   "pygments_lexer": "OCaml",
   "version": "4.08.1"
  },
  "rise": {
   "enable_chalkboard": true,
   "scroll": true
  }
 },
 "nbformat": 4,
 "nbformat_minor": 5
}
