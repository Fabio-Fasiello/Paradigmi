{
 "cells": [
  {
   "cell_type": "markdown",
   "id": "e9240ba0",
   "metadata": {
    "slideshow": {
     "slide_type": "slide"
    }
   },
   "source": [
    "# Programmazione imperativa in OCaml (cenni)"
   ]
  },
  {
   "cell_type": "markdown",
   "id": "62baea61",
   "metadata": {
    "slideshow": {
     "slide_type": "notes"
    }
   },
   "source": [
    "In questo capitolo saranno illustrate **XXXXXXXXXXXXXXXXXXXX** del linguaggio OCaml, in particolare relative al paradigma di programmazione funzionale, che quello su cui OCaml si basa principalmente. Il linguaggio prevede comunque aspetti di programmazione imperativa e a oggetti che vedremo successivamente.\n",
    "\n",
    "### Riferimenti\n",
    "\n",
    "Questo capitolo si basa su materiale ed esempi di codice tratti da:\n",
    "\n",
    "- <A href=\"https://dev.realworldocaml.org/\">Real World OCaml</A> (Versione 2), di Yaron Minsky, Anil Madhavapeddy e Jason Hickey\n",
    "\n",
    "La licenza per l'utilizzo del testo e degli esempi di codice è disponibile nel sito indicato.\n",
    "\n",
    "Inoltre, alcuni aspetti del linguaggio possono essere approfonditi consultando il manuale ufficiale di OCaml, disponibile a questo indirizzo:\n",
    "\n",
    "- <A href=\"https://ocaml.org/manual/index.html\">https://ocaml.org/manual/index.html</A>"
   ]
  },
  {
   "cell_type": "markdown",
   "id": "a9235800",
   "metadata": {
    "slideshow": {
     "slide_type": "slide"
    }
   },
   "source": [
    "## Introduzione\n",
    "\n",
    "Fino ad ora abbiamo scritto codice secondo il paradigma funzionale: \n",
    "\n",
    "Abbiamo principalmente definito *funzioni pure*\n",
    "\n",
    "- Calcolano il risultato sulla base dei propri parametri e delle variabili disponibili nella chiusura\n",
    "\n",
    "e variabili/strutture dati *immutabili*\n",
    "\n",
    "- Non è possibile modificarle assegnando nuovi valori"
   ]
  },
  {
   "cell_type": "markdown",
   "id": "621f47f4",
   "metadata": {
    "slideshow": {
     "slide_type": "slide"
    }
   },
   "source": [
    "Nella *programmazione imperativa* invece:\n",
    "\n",
    "* le variabili sono *mutabili* (si possono assegnare a piacimento)\n",
    "* le funzioni causano *side effect* (possono modificare l'ambiente globale)\n",
    "\n",
    "Esempi di side effects:\n",
    "\n",
    "* lettura/assegnamento di una varibile globale (o non locale)\n",
    "* stampa di un messaggio di output / lettura di un input\n",
    "* sollevamento di una eccezione \n",
    "\n",
    "Tutto questo rende le funzioni *impure*\n",
    "\n",
    "* il loro effetto non è più solo calcolare un risultato\n",
    "* il risultato può essere influenzato da fattori esterni (variabili globali/input/...)\n"
   ]
  },
  {
   "cell_type": "markdown",
   "id": "53122634",
   "metadata": {
    "slideshow": {
     "slide_type": "slide"
    }
   },
   "source": [
    "OCaml è concepito principalmente per la programmazione funzionale...\n",
    "\n",
    "* .. ma include anche tutti i costrutti imperativi principali\n",
    "\n",
    "Ne accenneremo brevemente alcuni:\n",
    "\n",
    "* array e record mutabili\n",
    "* riferimenti\n",
    "* cicli\n",
    "* eccezioni\n",
    "\n",
    "Inoltre, OCaml prevede la possibilità di definire *classi e oggetti* in pieno stile object-oriented\n",
    "\n",
    "* questo per il momento non lo vediamo"
   ]
  },
  {
   "cell_type": "markdown",
   "id": "3c990e42",
   "metadata": {
    "slideshow": {
     "slide_type": "slide"
    }
   },
   "source": [
    "## Array\n",
    "\n",
    "Gli array in OCaml:\n",
    "\n",
    "- contengono tutti elementi dello stesso tipo\n",
    "- hanno dimensione fissata al momento della creazione  (come in C, Java, ...)\n",
    "- possono essere acceduti tramite indici numerici (non sono associativi)\n",
    "\n",
    "Definizione di un nuovo array:\n",
    "   \n",
    "- letterale (elencandone gli elementi tra `[|` e `|]`"
   ]
  },
  {
   "cell_type": "code",
   "execution_count": 1,
   "id": "30e5e430",
   "metadata": {},
   "outputs": [
    {
     "data": {
      "text/plain": [
       "val a : int array = [|3; 5; 2|]\n"
      ]
     },
     "execution_count": 1,
     "metadata": {},
     "output_type": "execute_result"
    }
   ],
   "source": [
    "let a = [|3;5;2|] ;;"
   ]
  },
  {
   "cell_type": "markdown",
   "id": "e0ddb966",
   "metadata": {},
   "source": [
    "- tramite `Array.make` (con parametri la dimensione e il valore iniziale degli elementi)"
   ]
  },
  {
   "cell_type": "code",
   "execution_count": 2,
   "id": "df7f66a2",
   "metadata": {},
   "outputs": [
    {
     "data": {
      "text/plain": [
       "- : int array = [|0; 0; 0; 0; 0; 0; 0; 0; 0; 0|]\n"
      ]
     },
     "execution_count": 2,
     "metadata": {},
     "output_type": "execute_result"
    }
   ],
   "source": [
    "Array.make 10 0;;"
   ]
  },
  {
   "cell_type": "markdown",
   "id": "09bb48fb",
   "metadata": {
    "slideshow": {
     "slide_type": "slide"
    }
   },
   "source": [
    "La lunghezza di un array può essere ottenuta tramite `Array.lenght`"
   ]
  },
  {
   "cell_type": "code",
   "execution_count": 3,
   "id": "bce8dc2b",
   "metadata": {},
   "outputs": [
    {
     "data": {
      "text/plain": [
       "val n : int = 3\n"
      ]
     },
     "execution_count": 3,
     "metadata": {},
     "output_type": "execute_result"
    }
   ],
   "source": [
    "let n = Array.length a;;"
   ]
  },
  {
   "cell_type": "markdown",
   "id": "75f19b87",
   "metadata": {
    "slideshow": {
     "slide_type": "slide"
    }
   },
   "source": [
    "Accedere agli elementi di un array (con indici in `0,...,(n-1)`):\n",
    "\n",
    "- in lettura, con la sintassi `.(i)`"
   ]
  },
  {
   "cell_type": "code",
   "execution_count": 4,
   "id": "fe3ea7ed",
   "metadata": {},
   "outputs": [
    {
     "data": {
      "text/plain": [
       "val e : int = 5\n"
      ]
     },
     "execution_count": 4,
     "metadata": {},
     "output_type": "execute_result"
    }
   ],
   "source": [
    "let e = a.(1) ;;"
   ]
  },
  {
   "cell_type": "markdown",
   "id": "9a28b157",
   "metadata": {},
   "source": [
    "- in scrittura, con la sintassi `<-`"
   ]
  },
  {
   "cell_type": "code",
   "execution_count": 5,
   "id": "f1b92656",
   "metadata": {},
   "outputs": [
    {
     "data": {
      "text/plain": [
       "- : unit = ()\n"
      ]
     },
     "execution_count": 5,
     "metadata": {},
     "output_type": "execute_result"
    },
    {
     "data": {
      "text/plain": [
       "- : int array = [|3; 6; 2|]\n"
      ]
     },
     "execution_count": 5,
     "metadata": {},
     "output_type": "execute_result"
    }
   ],
   "source": [
    "a.(1) <- 6 ;;\n",
    "a;;"
   ]
  },
  {
   "cell_type": "markdown",
   "id": "d1012e78",
   "metadata": {
    "slideshow": {
     "slide_type": "slide"
    }
   },
   "source": [
    "### Un commento su `<-`\n",
    "\n",
    "Il costrutto `<-` è un *COMANDO di ASSEGNAMENTO*\n",
    "\n",
    "- è la prima volta che *modifichiamo* qualcosa!\n",
    "\n",
    "Non è l'unico costrutto di assegnamento\n",
    "\n",
    "- ne vedremo altri con sintassi diversa\n",
    "\n",
    "Il *tipo dei comandi* in OCaml è `unit`\n",
    "\n",
    "- in realtà non sono comandi, ma *espressioni con side effect*\n",
    "- simile a `void` in altri linguaggi di programmazione\n",
    "- descrive le cose che non possono essere valutate a valori\n",
    "- l'unico valore del tipo `unit` è `()`\n"
   ]
  },
  {
   "cell_type": "markdown",
   "id": "2b1cce66",
   "metadata": {
    "slideshow": {
     "slide_type": "slide"
    }
   },
   "source": [
    "## Record mutabili\n",
    "\n",
    "E' possibile rendere mutabili uno o più campi tramite il modificatore `mutable`"
   ]
  },
  {
   "cell_type": "code",
   "execution_count": 6,
   "id": "995aae79",
   "metadata": {},
   "outputs": [
    {
     "data": {
      "text/plain": [
       "type persona = { nome : string; cognome : string; mutable eta : int; }\n"
      ]
     },
     "execution_count": 6,
     "metadata": {},
     "output_type": "execute_result"
    }
   ],
   "source": [
    "type persona = \n",
    "{\n",
    "    nome: string;\n",
    "    cognome: string;\n",
    "    mutable eta: int;\n",
    "}"
   ]
  },
  {
   "cell_type": "code",
   "execution_count": 7,
   "id": "ca0bf615",
   "metadata": {},
   "outputs": [
    {
     "data": {
      "text/plain": [
       "val mario : persona = {nome = \"mario\"; cognome = \"rossi\"; eta = 30}\n"
      ]
     },
     "execution_count": 7,
     "metadata": {},
     "output_type": "execute_result"
    }
   ],
   "source": [
    "let mario = {nome=\"mario\"; cognome=\"rossi\"; eta=30 } ;;"
   ]
  },
  {
   "cell_type": "markdown",
   "id": "76431165",
   "metadata": {
    "slideshow": {
     "slide_type": "slide"
    }
   },
   "source": [
    "Anche in questo caso per l'assegnamento si usa `<-`"
   ]
  },
  {
   "cell_type": "code",
   "execution_count": 8,
   "id": "be5cd8ae",
   "metadata": {
    "slideshow": {
     "slide_type": "-"
    }
   },
   "outputs": [
    {
     "data": {
      "text/plain": [
       "- : unit = ()\n"
      ]
     },
     "execution_count": 8,
     "metadata": {},
     "output_type": "execute_result"
    },
    {
     "data": {
      "text/plain": [
       "- : persona = {nome = \"mario\"; cognome = \"rossi\"; eta = 31}\n"
      ]
     },
     "execution_count": 8,
     "metadata": {},
     "output_type": "execute_result"
    }
   ],
   "source": [
    "mario.eta <- 31 ;;\n",
    "mario ;;"
   ]
  },
  {
   "cell_type": "code",
   "execution_count": 9,
   "id": "4c474331",
   "metadata": {
    "slideshow": {
     "slide_type": "fragment"
    }
   },
   "outputs": [
    {
     "data": {
      "text/plain": [
       "val invecchia : persona -> unit = <fun>\n"
      ]
     },
     "execution_count": 9,
     "metadata": {},
     "output_type": "execute_result"
    },
    {
     "data": {
      "text/plain": [
       "- : unit = ()\n"
      ]
     },
     "execution_count": 9,
     "metadata": {},
     "output_type": "execute_result"
    },
    {
     "data": {
      "text/plain": [
       "- : persona = {nome = \"mario\"; cognome = \"rossi\"; eta = 32}\n"
      ]
     },
     "execution_count": 9,
     "metadata": {},
     "output_type": "execute_result"
    }
   ],
   "source": [
    "let invecchia p =\n",
    "    p.eta <- p.eta + 1;;\n",
    "    \n",
    "invecchia mario;;\n",
    "mario ;;"
   ]
  },
  {
   "cell_type": "markdown",
   "id": "c881e889",
   "metadata": {
    "slideshow": {
     "slide_type": "slide"
    }
   },
   "source": [
    "## Riferimenti (refs)\n",
    "\n",
    "Oltre ad array e record mutabili, è possibile definire anche singole variabili mutabili usando il tipo `ref`\n",
    "\n",
    "Ad esempio:"
   ]
  },
  {
   "cell_type": "code",
   "execution_count": 10,
   "id": "6bfdbd4c",
   "metadata": {},
   "outputs": [
    {
     "data": {
      "text/plain": [
       "val x : int ref = {contents = 12}\n"
      ]
     },
     "execution_count": 10,
     "metadata": {},
     "output_type": "execute_result"
    }
   ],
   "source": [
    "let x = ref 12 ;;"
   ]
  },
  {
   "cell_type": "markdown",
   "id": "e54c18b8",
   "metadata": {},
   "source": [
    "Si definisce la variabile `x` che contiene un *riferimento*\n",
    "\n",
    "* il riferimento punta a un record con un solo campo mutabile `contents` inizializato con il valore passato"
   ]
  },
  {
   "cell_type": "markdown",
   "id": "32e71297",
   "metadata": {
    "slideshow": {
     "slide_type": "slide"
    }
   },
   "source": [
    "E' possibile accedere alla variabile `ref` come record"
   ]
  },
  {
   "cell_type": "code",
   "execution_count": 11,
   "id": "3e1f7dec",
   "metadata": {},
   "outputs": [
    {
     "data": {
      "text/plain": [
       "- : int = 12\n"
      ]
     },
     "execution_count": 11,
     "metadata": {},
     "output_type": "execute_result"
    },
    {
     "data": {
      "text/plain": [
       "- : unit = ()\n"
      ]
     },
     "execution_count": 11,
     "metadata": {},
     "output_type": "execute_result"
    }
   ],
   "source": [
    "x.contents ;;\n",
    "x.contents <- 13;;"
   ]
  },
  {
   "cell_type": "markdown",
   "id": "6b463d79",
   "metadata": {
    "slideshow": {
     "slide_type": "fragment"
    }
   },
   "source": [
    "Ma in realtà c'è una *sintassi specifica*, più semplice:"
   ]
  },
  {
   "cell_type": "code",
   "execution_count": 12,
   "id": "0af3e796",
   "metadata": {},
   "outputs": [
    {
     "data": {
      "text/plain": [
       "- : int = 13\n"
      ]
     },
     "execution_count": 12,
     "metadata": {},
     "output_type": "execute_result"
    },
    {
     "data": {
      "text/plain": [
       "- : unit = ()\n"
      ]
     },
     "execution_count": 12,
     "metadata": {},
     "output_type": "execute_result"
    }
   ],
   "source": [
    "!x ;;            (* corrisponde a x.contents *)\n",
    "x := 14 ;;       (* corrisponde a x.contents <- 14 *)"
   ]
  },
  {
   "cell_type": "markdown",
   "id": "523bba77",
   "metadata": {
    "slideshow": {
     "slide_type": "fragment"
    }
   },
   "source": [
    "L'operazione `!` è detta *dereferenziazione*"
   ]
  },
  {
   "cell_type": "markdown",
   "id": "a18c8de2",
   "metadata": {
    "slideshow": {
     "slide_type": "slide"
    }
   },
   "source": [
    "Con `ref` si creano effettivamente dei riferimenti\n",
    "\n",
    "* dei puntatori ad aree di memoria\n",
    "\n",
    "Copiando il riferimento in una nuova variabile, entrambe le variabili punteranno alla stessa area di memoria\n",
    "\n",
    "**TODO: FARE FIGURA**"
   ]
  },
  {
   "cell_type": "code",
   "execution_count": 42,
   "id": "165bd0ea",
   "metadata": {
    "slideshow": {
     "slide_type": "-"
    }
   },
   "outputs": [
    {
     "data": {
      "text/plain": [
       "val x : int ref = {contents = 0}\n"
      ]
     },
     "execution_count": 42,
     "metadata": {},
     "output_type": "execute_result"
    },
    {
     "data": {
      "text/plain": [
       "val y : int ref = {contents = 0}\n"
      ]
     },
     "execution_count": 42,
     "metadata": {},
     "output_type": "execute_result"
    },
    {
     "data": {
      "text/plain": [
       "- : unit = ()\n"
      ]
     },
     "execution_count": 42,
     "metadata": {},
     "output_type": "execute_result"
    },
    {
     "data": {
      "text/plain": [
       "- : int = 100\n"
      ]
     },
     "execution_count": 42,
     "metadata": {},
     "output_type": "execute_result"
    }
   ],
   "source": [
    "let x = ref 0;;\n",
    "let y = x;;\n",
    "y:=100;;\n",
    "!x;;"
   ]
  },
  {
   "cell_type": "markdown",
   "id": "aafb8626",
   "metadata": {},
   "source": [
    "Modificando `y` anche `x` risulta modificata"
   ]
  },
  {
   "cell_type": "markdown",
   "id": "18f38eee",
   "metadata": {
    "slideshow": {
     "slide_type": "slide"
    }
   },
   "source": [
    "## Sequenze di comandi e cicli\n",
    "\n",
    "Una sequenza di comandi/espressioni può essere definita tramite il separatore `;`"
   ]
  },
  {
   "cell_type": "code",
   "execution_count": 43,
   "id": "20ff94fa",
   "metadata": {},
   "outputs": [
    {
     "data": {
      "text/plain": [
       "val x : int ref = {contents = 0}\n"
      ]
     },
     "execution_count": 43,
     "metadata": {},
     "output_type": "execute_result"
    },
    {
     "data": {
      "text/plain": [
       "val y : int ref = {contents = 0}\n"
      ]
     },
     "execution_count": 43,
     "metadata": {},
     "output_type": "execute_result"
    },
    {
     "data": {
      "text/plain": [
       "- : int * int = (2, 2)\n"
      ]
     },
     "execution_count": 43,
     "metadata": {},
     "output_type": "execute_result"
    }
   ],
   "source": [
    "let x = ref 0;;\n",
    "let y = x;;\n",
    "x := !x+1 ; y := !y+1 ; (!x,!y) ;; (* sequenza di espressioni *)"
   ]
  },
  {
   "cell_type": "markdown",
   "id": "7564921b",
   "metadata": {},
   "source": [
    "Le espressioni vengono valutate una dopo l'altra e l'ultima fornisce il risultato finale"
   ]
  },
  {
   "cell_type": "markdown",
   "id": "4a28fed5",
   "metadata": {
    "slideshow": {
     "slide_type": "slide"
    }
   },
   "source": [
    "In una sequenza di espressioni `E1 ; E2 ; .... ; En`:\n",
    "\n",
    "- tutte le espressioni precedenti all'ultima devono (dovrebbero...) avere tipo `unit`\n",
    "- le espressioni `E1 ; E2 ; .... ; E(n-1)` causano solo side effects (ad esempio, modificando le strutture dati mutabili)\n",
    "- l'espressione `En` calcola il risultato vero e proprio"
   ]
  },
  {
   "cell_type": "code",
   "execution_count": 64,
   "id": "0096cf94",
   "metadata": {},
   "outputs": [
    {
     "data": {
      "text/plain": [
       "- : int * int = (4, 4)\n"
      ]
     },
     "execution_count": 64,
     "metadata": {},
     "output_type": "execute_result"
    }
   ],
   "source": [
    "x := !x+1 ; y := !y+1 ; (!x,!y) ;;"
   ]
  },
  {
   "cell_type": "code",
   "execution_count": 81,
   "id": "ec87e229",
   "metadata": {
    "slideshow": {
     "slide_type": "fragment"
    }
   },
   "outputs": [
    {
     "name": "stderr",
     "output_type": "stream",
     "text": [
      "File \"[81]\", line 1, characters 0-3:\n",
      "1 | 4+3 ; 5+2 ;;\n",
      "    ^^^\n",
      "Warning 10: this expression should have type unit.\n",
      "File \"[81]\", line 1, characters 0-3:\n",
      "1 | 4+3 ; 5+2 ;;\n",
      "    ^^^\n",
      "Warning 10: this expression should have type unit.\n"
     ]
    },
    {
     "data": {
      "text/plain": [
       "- : int = 7\n"
      ]
     },
     "execution_count": 81,
     "metadata": {},
     "output_type": "execute_result"
    }
   ],
   "source": [
    "4+3 ; 5+2 ;;"
   ]
  },
  {
   "cell_type": "markdown",
   "id": "ac7ae7b2",
   "metadata": {
    "slideshow": {
     "slide_type": "slide"
    }
   },
   "source": [
    "### NOTA: `;` vs `in`\n",
    "\n",
    "Viene la tentazione di usare `;` per separare dichiarazioni di variabili dal loro uso..."
   ]
  },
  {
   "cell_type": "code",
   "execution_count": 89,
   "id": "badc64b0",
   "metadata": {
    "slideshow": {
     "slide_type": "-"
    }
   },
   "outputs": [
    {
     "data": {
      "text/plain": [
       "val f : int -> int = <fun>\n"
      ]
     },
     "execution_count": 89,
     "metadata": {},
     "output_type": "execute_result"
    },
    {
     "name": "stderr",
     "output_type": "stream",
     "text": [
      "File \"[89]\", line 3, characters 8-10:\n",
      "3 | let m = 10 ; f(m) ;;\n",
      "            ^^\n",
      "Warning 10: this expression should have type unit.\n"
     ]
    },
    {
     "ename": "error",
     "evalue": "compile_error",
     "output_type": "error",
     "traceback": [
      "File \"[89]\", line 3, characters 15-16:\n3 | let m = 10 ; f(m) ;;\n                   ^\nError: Unbound value m\n"
     ]
    }
   ],
   "source": [
    "let f n = n+1 ;; (* funzione giocattolo, giusto per l'esempio *)\n",
    "\n",
    "let m = 10 ; f(m) ;;"
   ]
  },
  {
   "cell_type": "markdown",
   "id": "5daaa272",
   "metadata": {
    "slideshow": {
     "slide_type": "fragment"
    }
   },
   "source": [
    "invece bisogna usare `in`"
   ]
  },
  {
   "cell_type": "code",
   "execution_count": 90,
   "id": "e8711202",
   "metadata": {},
   "outputs": [
    {
     "data": {
      "text/plain": [
       "- : int = 11\n"
      ]
     },
     "execution_count": 90,
     "metadata": {},
     "output_type": "execute_result"
    }
   ],
   "source": [
    "let m = 10 in f(m) ;;"
   ]
  },
  {
   "cell_type": "markdown",
   "id": "c0a167bd",
   "metadata": {
    "slideshow": {
     "slide_type": "slide"
    }
   },
   "source": []
  },
  {
   "cell_type": "code",
   "execution_count": 68,
   "id": "7305f8b2",
   "metadata": {
    "slideshow": {
     "slide_type": "slide"
    }
   },
   "outputs": [
    {
     "data": {
      "text/plain": [
       "val media : int array -> int = <fun>\n"
      ]
     },
     "execution_count": 68,
     "metadata": {},
     "output_type": "execute_result"
    },
    {
     "data": {
      "text/plain": [
       "- : int = 6\n"
      ]
     },
     "execution_count": 68,
     "metadata": {},
     "output_type": "execute_result"
    }
   ],
   "source": [
    "let media arr =\n",
    "    let s = ref 0 in\n",
    "    for i = 0 to (Array.length arr)-1 do\n",
    "        s := !s + arr.(i)\n",
    "    done ;\n",
    "    !s / Array.length arr ;;\n",
    "    \n",
    "media [|4;6;8|] ;;"
   ]
  },
  {
   "cell_type": "markdown",
   "id": "a2283cfe",
   "metadata": {
    "slideshow": {
     "slide_type": "slide"
    }
   },
   "source": [
    "## Eccezioni"
   ]
  },
  {
   "cell_type": "code",
   "execution_count": 13,
   "id": "cdb1ec05",
   "metadata": {
    "slideshow": {
     "slide_type": "slide"
    }
   },
   "outputs": [
    {
     "data": {
      "text/plain": [
       "- : string -> 'a = <fun>\n"
      ]
     },
     "execution_count": 13,
     "metadata": {},
     "output_type": "execute_result"
    }
   ],
   "source": [
    "failwith ;;"
   ]
  },
  {
   "cell_type": "code",
   "execution_count": 14,
   "id": "a3a9b0de",
   "metadata": {},
   "outputs": [
    {
     "ename": "error",
     "evalue": "runtime_error",
     "output_type": "error",
     "traceback": [
      "\u001b[31mException: Failure \"aaa\".\nRaised at file \"stdlib.ml\", line 29, characters 22-33\nCalled from file \"toplevel/toploop.ml\", line 208, characters 17-27\n\u001b[0m"
     ]
    }
   ],
   "source": [
    "failwith \"aaa\";;"
   ]
  },
  {
   "cell_type": "code",
   "execution_count": 15,
   "id": "11d0d0de",
   "metadata": {},
   "outputs": [
    {
     "ename": "error",
     "evalue": "compile_error",
     "output_type": "error",
     "traceback": [
      "File \"[15]\", line 1, characters 7-9:\n1 | assert ;;\n           ^^\nError: Syntax error\n"
     ]
    }
   ],
   "source": [
    "assert ;;"
   ]
  },
  {
   "cell_type": "code",
   "execution_count": 16,
   "id": "36a0a013",
   "metadata": {},
   "outputs": [
    {
     "data": {
      "text/plain": [
       "- : exn -> 'a = <fun>\n"
      ]
     },
     "execution_count": 16,
     "metadata": {},
     "output_type": "execute_result"
    }
   ],
   "source": [
    "raise ;;"
   ]
  },
  {
   "cell_type": "code",
   "execution_count": 17,
   "id": "4cc6c7c5",
   "metadata": {},
   "outputs": [
    {
     "ename": "error",
     "evalue": "compile_error",
     "output_type": "error",
     "traceback": [
      "File \"[17]\", line 1, characters 0-6:\n1 | printf ;;\n    ^^^^^^\nError: Unbound value printf\n"
     ]
    }
   ],
   "source": [
    "printf ;;"
   ]
  },
  {
   "cell_type": "code",
   "execution_count": 18,
   "id": "f2db6e38",
   "metadata": {},
   "outputs": [
    {
     "name": "stdout",
     "output_type": "stream",
     "text": [
      "3.\n"
     ]
    },
    {
     "data": {
      "text/plain": [
       "- : unit = ()\n"
      ]
     },
     "execution_count": 18,
     "metadata": {},
     "output_type": "execute_result"
    }
   ],
   "source": [
    "print_float 3.;\n",
    "print_endline \"\";;"
   ]
  },
  {
   "cell_type": "code",
   "execution_count": 19,
   "id": "19633c13",
   "metadata": {},
   "outputs": [
    {
     "data": {
      "text/plain": [
       "- : unit = ()\n"
      ]
     },
     "execution_count": 19,
     "metadata": {},
     "output_type": "execute_result"
    }
   ],
   "source": [
    "print_string \"CCC\";\n",
    "flush stdout ;;"
   ]
  },
  {
   "cell_type": "code",
   "execution_count": 20,
   "id": "d1d190e7",
   "metadata": {},
   "outputs": [
    {
     "name": "stdout",
     "output_type": "stream",
     "text": [
      "CCCciao\n"
     ]
    },
    {
     "data": {
      "text/plain": [
       "- : unit = ()\n"
      ]
     },
     "execution_count": 20,
     "metadata": {},
     "output_type": "execute_result"
    }
   ],
   "source": [
    "print_newline (print_string \"ciao\");;"
   ]
  },
  {
   "cell_type": "code",
   "execution_count": null,
   "id": "39b51a90",
   "metadata": {},
   "outputs": [],
   "source": []
  }
 ],
 "metadata": {
  "celltoolbar": "Slideshow",
  "kernelspec": {
   "display_name": "OCaml default",
   "language": "OCaml",
   "name": "ocaml-jupyter"
  },
  "language_info": {
   "codemirror_mode": "text/x-ocaml",
   "file_extension": ".ml",
   "mimetype": "text/x-ocaml",
   "name": "OCaml",
   "nbconverter_exporter": null,
   "pygments_lexer": "OCaml",
   "version": "4.08.1"
  },
  "rise": {
   "enable_chalkboard": true,
   "scroll": true
  }
 },
 "nbformat": 4,
 "nbformat_minor": 5
}
