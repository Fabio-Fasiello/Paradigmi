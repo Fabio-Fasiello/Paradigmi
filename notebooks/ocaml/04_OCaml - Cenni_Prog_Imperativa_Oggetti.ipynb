{
 "cells": [
  {
   "cell_type": "markdown",
   "id": "e9240ba0",
   "metadata": {
    "slideshow": {
     "slide_type": "slide"
    }
   },
   "source": [
    "# Programmazione imperativa e a oggetti in OCaml (cenni)"
   ]
  },
  {
   "cell_type": "markdown",
   "id": "62baea61",
   "metadata": {
    "slideshow": {
     "slide_type": "notes"
    }
   },
   "source": [
    "In questo capitolo saranno illustrate **XXXXXXXXXXXXXXXXXXXX** del linguaggio OCaml, in particolare relative al paradigma di programmazione funzionale, che quello su cui OCaml si basa principalmente. Il linguaggio prevede comunque aspetti di programmazione imperativa e a oggetti che vedremo successivamente.\n",
    "\n",
    "### Riferimenti\n",
    "\n",
    "Questo capitolo si basa su materiale ed esempi di codice tratti da:\n",
    "\n",
    "- <A href=\"https://dev.realworldocaml.org/\">Real World OCaml</A> (Versione 2), di Yaron Minsky, Anil Madhavapeddy e Jason Hickey\n",
    "\n",
    "La licenza per l'utilizzo del testo e degli esempi di codice è disponibile nel sito indicato.\n",
    "\n",
    "Inoltre, alcuni aspetti del linguaggio possono essere approfonditi consultando il manuale ufficiale di OCaml, disponibile a questo indirizzo:\n",
    "\n",
    "- <A href=\"https://ocaml.org/manual/index.html\">https://ocaml.org/manual/index.html</A>"
   ]
  },
  {
   "cell_type": "markdown",
   "id": "a9235800",
   "metadata": {
    "slideshow": {
     "slide_type": "slide"
    }
   },
   "source": [
    "## Slide\n",
    "\n",
    "Todo...."
   ]
  }
 ],
 "metadata": {
  "celltoolbar": "Slideshow",
  "kernelspec": {
   "display_name": "OCaml default",
   "language": "OCaml",
   "name": "ocaml-jupyter"
  },
  "language_info": {
   "codemirror_mode": "text/x-ocaml",
   "file_extension": ".ml",
   "mimetype": "text/x-ocaml",
   "name": "OCaml",
   "nbconverter_exporter": null,
   "pygments_lexer": "OCaml",
   "version": "4.08.1"
  },
  "rise": {
   "enable_chalkboard": true,
   "scroll": true
  }
 },
 "nbformat": 4,
 "nbformat_minor": 5
}
