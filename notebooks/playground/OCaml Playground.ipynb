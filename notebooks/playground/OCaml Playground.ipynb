{
 "cells": [
  {
   "cell_type": "markdown",
   "id": "e03e09f6",
   "metadata": {},
   "source": [
    "## OCaml Playground\n",
    "\n",
    "Esempio di Jupyter notebook per sperimentare con OCaml"
   ]
  },
  {
   "cell_type": "code",
   "execution_count": null,
   "id": "b8ef708f",
   "metadata": {},
   "outputs": [],
   "source": [
    "let msg = \"Benvenuta/o su OCaml Playground! Selezionami e premi SHIFT+ENTER per eseguirmi\" ;;"
   ]
  }
 ],
 "metadata": {
  "kernelspec": {
   "display_name": "OCaml default",
   "language": "OCaml",
   "name": "ocaml-jupyter"
  },
  "language_info": {
   "codemirror_mode": "text/x-ocaml",
   "file_extension": ".ml",
   "mimetype": "text/x-ocaml",
   "name": "OCaml",
   "nbconverter_exporter": null,
   "pygments_lexer": "OCaml",
   "version": "4.08.1"
  }
 },
 "nbformat": 4,
 "nbformat_minor": 5
}
